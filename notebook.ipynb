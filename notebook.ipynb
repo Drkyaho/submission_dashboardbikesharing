{
 "cells": [
  {
   "cell_type": "markdown",
   "metadata": {
    "id": "H9wADwK78DCz"
   },
   "source": [
    "# Proyek Analisis Data: [Input Nama Dataset]\n",
    "- **Nama:** [Dina Prastuti]\n",
    "- **Email:** [Input Email]\n",
    "- **ID Dicoding:** [Input Username]"
   ]
  },
  {
   "cell_type": "markdown",
   "metadata": {
    "id": "eE0raob58DC0"
   },
   "source": [
    "## Menentukan Pertanyaan Bisnis"
   ]
  },
  {
   "cell_type": "markdown",
   "metadata": {
    "id": "GmQeQ5YF8DC0"
   },
   "source": [
    "- Bagaimana pengaruh musim terhadap jumlah sewa sepeda (cnt)?\n",
    "- Apakah hari libur atau hari kerja memengaruhi jumlah sewa sepeda?"
   ]
  },
  {
   "cell_type": "markdown",
   "metadata": {
    "id": "H-z4QGlO8DC1"
   },
   "source": [
    "## Import Semua Packages/Library yang Digunakan"
   ]
  },
  {
   "cell_type": "code",
   "execution_count": 539,
   "metadata": {
    "id": "FVYwaObI8DC1"
   },
   "outputs": [],
   "source": [
    "import numpy as np\n",
    "import pandas as pd\n",
    "import matplotlib.pyplot as plt\n",
    "import seaborn as sns\n",
    "import pandas as pd"
   ]
  },
  {
   "cell_type": "markdown",
   "metadata": {
    "id": "h_Sh51Xy8DC1"
   },
   "source": [
    "## Data Wrangling"
   ]
  },
  {
   "cell_type": "markdown",
   "metadata": {
    "id": "sXU2GBYu8DC1"
   },
   "source": [
    "### Gathering Data"
   ]
  },
  {
   "cell_type": "code",
   "execution_count": 540,
   "metadata": {
    "id": "zjCBk1BI8DC1"
   },
   "outputs": [
    {
     "data": {
      "text/html": [
       "<div>\n",
       "<style scoped>\n",
       "    .dataframe tbody tr th:only-of-type {\n",
       "        vertical-align: middle;\n",
       "    }\n",
       "\n",
       "    .dataframe tbody tr th {\n",
       "        vertical-align: top;\n",
       "    }\n",
       "\n",
       "    .dataframe thead th {\n",
       "        text-align: right;\n",
       "    }\n",
       "</style>\n",
       "<table border=\"1\" class=\"dataframe\">\n",
       "  <thead>\n",
       "    <tr style=\"text-align: right;\">\n",
       "      <th></th>\n",
       "      <th>instant</th>\n",
       "      <th>dteday</th>\n",
       "      <th>season</th>\n",
       "      <th>yr</th>\n",
       "      <th>mnth</th>\n",
       "      <th>holiday</th>\n",
       "      <th>weekday</th>\n",
       "      <th>workingday</th>\n",
       "      <th>weathersit</th>\n",
       "      <th>temp</th>\n",
       "      <th>atemp</th>\n",
       "      <th>hum</th>\n",
       "      <th>windspeed</th>\n",
       "      <th>casual</th>\n",
       "      <th>registered</th>\n",
       "      <th>cnt</th>\n",
       "    </tr>\n",
       "  </thead>\n",
       "  <tbody>\n",
       "    <tr>\n",
       "      <th>0</th>\n",
       "      <td>1</td>\n",
       "      <td>2011-01-01</td>\n",
       "      <td>1</td>\n",
       "      <td>0</td>\n",
       "      <td>1</td>\n",
       "      <td>0</td>\n",
       "      <td>6</td>\n",
       "      <td>0</td>\n",
       "      <td>2</td>\n",
       "      <td>0.344167</td>\n",
       "      <td>0.363625</td>\n",
       "      <td>0.805833</td>\n",
       "      <td>0.160446</td>\n",
       "      <td>331</td>\n",
       "      <td>654</td>\n",
       "      <td>985</td>\n",
       "    </tr>\n",
       "    <tr>\n",
       "      <th>1</th>\n",
       "      <td>2</td>\n",
       "      <td>2011-01-02</td>\n",
       "      <td>1</td>\n",
       "      <td>0</td>\n",
       "      <td>1</td>\n",
       "      <td>0</td>\n",
       "      <td>0</td>\n",
       "      <td>0</td>\n",
       "      <td>2</td>\n",
       "      <td>0.363478</td>\n",
       "      <td>0.353739</td>\n",
       "      <td>0.696087</td>\n",
       "      <td>0.248539</td>\n",
       "      <td>131</td>\n",
       "      <td>670</td>\n",
       "      <td>801</td>\n",
       "    </tr>\n",
       "    <tr>\n",
       "      <th>2</th>\n",
       "      <td>3</td>\n",
       "      <td>2011-01-03</td>\n",
       "      <td>1</td>\n",
       "      <td>0</td>\n",
       "      <td>1</td>\n",
       "      <td>0</td>\n",
       "      <td>1</td>\n",
       "      <td>1</td>\n",
       "      <td>1</td>\n",
       "      <td>0.196364</td>\n",
       "      <td>0.189405</td>\n",
       "      <td>0.437273</td>\n",
       "      <td>0.248309</td>\n",
       "      <td>120</td>\n",
       "      <td>1229</td>\n",
       "      <td>1349</td>\n",
       "    </tr>\n",
       "    <tr>\n",
       "      <th>3</th>\n",
       "      <td>4</td>\n",
       "      <td>2011-01-04</td>\n",
       "      <td>1</td>\n",
       "      <td>0</td>\n",
       "      <td>1</td>\n",
       "      <td>0</td>\n",
       "      <td>2</td>\n",
       "      <td>1</td>\n",
       "      <td>1</td>\n",
       "      <td>0.200000</td>\n",
       "      <td>0.212122</td>\n",
       "      <td>0.590435</td>\n",
       "      <td>0.160296</td>\n",
       "      <td>108</td>\n",
       "      <td>1454</td>\n",
       "      <td>1562</td>\n",
       "    </tr>\n",
       "    <tr>\n",
       "      <th>4</th>\n",
       "      <td>5</td>\n",
       "      <td>2011-01-05</td>\n",
       "      <td>1</td>\n",
       "      <td>0</td>\n",
       "      <td>1</td>\n",
       "      <td>0</td>\n",
       "      <td>3</td>\n",
       "      <td>1</td>\n",
       "      <td>1</td>\n",
       "      <td>0.226957</td>\n",
       "      <td>0.229270</td>\n",
       "      <td>0.436957</td>\n",
       "      <td>0.186900</td>\n",
       "      <td>82</td>\n",
       "      <td>1518</td>\n",
       "      <td>1600</td>\n",
       "    </tr>\n",
       "  </tbody>\n",
       "</table>\n",
       "</div>"
      ],
      "text/plain": [
       "   instant      dteday  season  yr  mnth  holiday  weekday  workingday  \\\n",
       "0        1  2011-01-01       1   0     1        0        6           0   \n",
       "1        2  2011-01-02       1   0     1        0        0           0   \n",
       "2        3  2011-01-03       1   0     1        0        1           1   \n",
       "3        4  2011-01-04       1   0     1        0        2           1   \n",
       "4        5  2011-01-05       1   0     1        0        3           1   \n",
       "\n",
       "   weathersit      temp     atemp       hum  windspeed  casual  registered  \\\n",
       "0           2  0.344167  0.363625  0.805833   0.160446     331         654   \n",
       "1           2  0.363478  0.353739  0.696087   0.248539     131         670   \n",
       "2           1  0.196364  0.189405  0.437273   0.248309     120        1229   \n",
       "3           1  0.200000  0.212122  0.590435   0.160296     108        1454   \n",
       "4           1  0.226957  0.229270  0.436957   0.186900      82        1518   \n",
       "\n",
       "    cnt  \n",
       "0   985  \n",
       "1   801  \n",
       "2  1349  \n",
       "3  1562  \n",
       "4  1600  "
      ]
     },
     "execution_count": 540,
     "metadata": {},
     "output_type": "execute_result"
    }
   ],
   "source": [
    "day_df = pd.read_csv(\"data/day.csv\")   # Data harian\n",
    "day_df.head()"
   ]
  },
  {
   "cell_type": "code",
   "execution_count": 541,
   "metadata": {
    "id": "zjCBk1BI8DC1"
   },
   "outputs": [
    {
     "data": {
      "text/html": [
       "<div>\n",
       "<style scoped>\n",
       "    .dataframe tbody tr th:only-of-type {\n",
       "        vertical-align: middle;\n",
       "    }\n",
       "\n",
       "    .dataframe tbody tr th {\n",
       "        vertical-align: top;\n",
       "    }\n",
       "\n",
       "    .dataframe thead th {\n",
       "        text-align: right;\n",
       "    }\n",
       "</style>\n",
       "<table border=\"1\" class=\"dataframe\">\n",
       "  <thead>\n",
       "    <tr style=\"text-align: right;\">\n",
       "      <th></th>\n",
       "      <th>instant</th>\n",
       "      <th>dteday</th>\n",
       "      <th>season</th>\n",
       "      <th>yr</th>\n",
       "      <th>mnth</th>\n",
       "      <th>hr</th>\n",
       "      <th>holiday</th>\n",
       "      <th>weekday</th>\n",
       "      <th>workingday</th>\n",
       "      <th>weathersit</th>\n",
       "      <th>temp</th>\n",
       "      <th>atemp</th>\n",
       "      <th>hum</th>\n",
       "      <th>windspeed</th>\n",
       "      <th>casual</th>\n",
       "      <th>registered</th>\n",
       "      <th>cnt</th>\n",
       "    </tr>\n",
       "  </thead>\n",
       "  <tbody>\n",
       "    <tr>\n",
       "      <th>0</th>\n",
       "      <td>1</td>\n",
       "      <td>2011-01-01</td>\n",
       "      <td>1</td>\n",
       "      <td>0</td>\n",
       "      <td>1</td>\n",
       "      <td>0</td>\n",
       "      <td>0</td>\n",
       "      <td>6</td>\n",
       "      <td>0</td>\n",
       "      <td>1</td>\n",
       "      <td>0.24</td>\n",
       "      <td>0.2879</td>\n",
       "      <td>0.81</td>\n",
       "      <td>0.0</td>\n",
       "      <td>3</td>\n",
       "      <td>13</td>\n",
       "      <td>16</td>\n",
       "    </tr>\n",
       "    <tr>\n",
       "      <th>1</th>\n",
       "      <td>2</td>\n",
       "      <td>2011-01-01</td>\n",
       "      <td>1</td>\n",
       "      <td>0</td>\n",
       "      <td>1</td>\n",
       "      <td>1</td>\n",
       "      <td>0</td>\n",
       "      <td>6</td>\n",
       "      <td>0</td>\n",
       "      <td>1</td>\n",
       "      <td>0.22</td>\n",
       "      <td>0.2727</td>\n",
       "      <td>0.80</td>\n",
       "      <td>0.0</td>\n",
       "      <td>8</td>\n",
       "      <td>32</td>\n",
       "      <td>40</td>\n",
       "    </tr>\n",
       "    <tr>\n",
       "      <th>2</th>\n",
       "      <td>3</td>\n",
       "      <td>2011-01-01</td>\n",
       "      <td>1</td>\n",
       "      <td>0</td>\n",
       "      <td>1</td>\n",
       "      <td>2</td>\n",
       "      <td>0</td>\n",
       "      <td>6</td>\n",
       "      <td>0</td>\n",
       "      <td>1</td>\n",
       "      <td>0.22</td>\n",
       "      <td>0.2727</td>\n",
       "      <td>0.80</td>\n",
       "      <td>0.0</td>\n",
       "      <td>5</td>\n",
       "      <td>27</td>\n",
       "      <td>32</td>\n",
       "    </tr>\n",
       "    <tr>\n",
       "      <th>3</th>\n",
       "      <td>4</td>\n",
       "      <td>2011-01-01</td>\n",
       "      <td>1</td>\n",
       "      <td>0</td>\n",
       "      <td>1</td>\n",
       "      <td>3</td>\n",
       "      <td>0</td>\n",
       "      <td>6</td>\n",
       "      <td>0</td>\n",
       "      <td>1</td>\n",
       "      <td>0.24</td>\n",
       "      <td>0.2879</td>\n",
       "      <td>0.75</td>\n",
       "      <td>0.0</td>\n",
       "      <td>3</td>\n",
       "      <td>10</td>\n",
       "      <td>13</td>\n",
       "    </tr>\n",
       "    <tr>\n",
       "      <th>4</th>\n",
       "      <td>5</td>\n",
       "      <td>2011-01-01</td>\n",
       "      <td>1</td>\n",
       "      <td>0</td>\n",
       "      <td>1</td>\n",
       "      <td>4</td>\n",
       "      <td>0</td>\n",
       "      <td>6</td>\n",
       "      <td>0</td>\n",
       "      <td>1</td>\n",
       "      <td>0.24</td>\n",
       "      <td>0.2879</td>\n",
       "      <td>0.75</td>\n",
       "      <td>0.0</td>\n",
       "      <td>0</td>\n",
       "      <td>1</td>\n",
       "      <td>1</td>\n",
       "    </tr>\n",
       "  </tbody>\n",
       "</table>\n",
       "</div>"
      ],
      "text/plain": [
       "   instant      dteday  season  yr  mnth  hr  holiday  weekday  workingday  \\\n",
       "0        1  2011-01-01       1   0     1   0        0        6           0   \n",
       "1        2  2011-01-01       1   0     1   1        0        6           0   \n",
       "2        3  2011-01-01       1   0     1   2        0        6           0   \n",
       "3        4  2011-01-01       1   0     1   3        0        6           0   \n",
       "4        5  2011-01-01       1   0     1   4        0        6           0   \n",
       "\n",
       "   weathersit  temp   atemp   hum  windspeed  casual  registered  cnt  \n",
       "0           1  0.24  0.2879  0.81        0.0       3          13   16  \n",
       "1           1  0.22  0.2727  0.80        0.0       8          32   40  \n",
       "2           1  0.22  0.2727  0.80        0.0       5          27   32  \n",
       "3           1  0.24  0.2879  0.75        0.0       3          10   13  \n",
       "4           1  0.24  0.2879  0.75        0.0       0           1    1  "
      ]
     },
     "execution_count": 541,
     "metadata": {},
     "output_type": "execute_result"
    }
   ],
   "source": [
    "hour_df = pd.read_csv(\"data/hour.csv\")   # Data per jam\n",
    "hour_df.head()"
   ]
  },
  {
   "cell_type": "markdown",
   "metadata": {
    "id": "MMi6xGaDkbCi"
   },
   "source": [
    "**Insight:**\n",
    "- Pada tahap ini, dua dataset utama dimuat: day.csv (harian) dan hour.csv (per jam), yang memuat informasi tentang penyewaan sepeda, kondisi cuaca, musim, hari kerja, jam, serta jumlah penyewaan. Dataset ini digunakan untuk melakukan analisis lebih lanjut terkait faktor yang mempengaruhi pola penyewaan sepeda.\n",
    "- Data yang ada mencakup atribut yang cukup lengkap untuk menganalisis pola penyewaan sepeda, dengan informasi tentang cuaca, musim, hari kerja, hari libur, serta waktu dalam sehari."
   ]
  },
  {
   "cell_type": "markdown",
   "metadata": {
    "id": "FHSiqaZp8DC1"
   },
   "source": [
    "### Assessing Data"
   ]
  },
  {
   "cell_type": "markdown",
   "metadata": {
    "id": "7dtxhAPrkhPL"
   },
   "source": [
    "**Menilai tabel day_df**"
   ]
  },
  {
   "cell_type": "code",
   "execution_count": 542,
   "metadata": {
    "id": "ax-3tEjc9Cj1"
   },
   "outputs": [
    {
     "name": "stdout",
     "output_type": "stream",
     "text": [
      "<class 'pandas.core.frame.DataFrame'>\n",
      "RangeIndex: 731 entries, 0 to 730\n",
      "Data columns (total 16 columns):\n",
      " #   Column      Non-Null Count  Dtype  \n",
      "---  ------      --------------  -----  \n",
      " 0   instant     731 non-null    int64  \n",
      " 1   dteday      731 non-null    object \n",
      " 2   season      731 non-null    int64  \n",
      " 3   yr          731 non-null    int64  \n",
      " 4   mnth        731 non-null    int64  \n",
      " 5   holiday     731 non-null    int64  \n",
      " 6   weekday     731 non-null    int64  \n",
      " 7   workingday  731 non-null    int64  \n",
      " 8   weathersit  731 non-null    int64  \n",
      " 9   temp        731 non-null    float64\n",
      " 10  atemp       731 non-null    float64\n",
      " 11  hum         731 non-null    float64\n",
      " 12  windspeed   731 non-null    float64\n",
      " 13  casual      731 non-null    int64  \n",
      " 14  registered  731 non-null    int64  \n",
      " 15  cnt         731 non-null    int64  \n",
      "dtypes: float64(4), int64(11), object(1)\n",
      "memory usage: 91.5+ KB\n"
     ]
    }
   ],
   "source": [
    "day_df.info()"
   ]
  },
  {
   "cell_type": "markdown",
   "metadata": {
    "id": "7dtxhAPrkhPL"
   },
   "source": [
    "**Insight:**\n",
    "Secara umum, data terlihat tampak baik akan tetapi ada beberapa hal yang perlu diperhatikan:\n",
    "- Kolom dteday: untuk mempermudah analisis tipe data dteday sebaiknya diubah menjadi datetime.\n",
    "- Kolom yr: Akan lebih baik menggunakan tipe data kategorikal (0: 2011 atau 1: 2012).\n",
    "- manth, season, holiday, weekday, workingday, weathersit: karena hanya memiliki beberapa kategori, lebih baik mengonversi kolom-kolom ini menjadi category daripada int64 untuk efisiensi memori dan performa yang lebih baik.\n",
    "- Kolom casual, registered, dan cnt: Pastikan nilai cnt sesuai dengan penjumlahan casual dan registered."
   ]
  },
  {
   "cell_type": "code",
   "execution_count": 543,
   "metadata": {
    "id": "ax-3tEjc9Cj1"
   },
   "outputs": [
    {
     "data": {
      "text/plain": [
       "instant       0\n",
       "dteday        0\n",
       "season        0\n",
       "yr            0\n",
       "mnth          0\n",
       "holiday       0\n",
       "weekday       0\n",
       "workingday    0\n",
       "weathersit    0\n",
       "temp          0\n",
       "atemp         0\n",
       "hum           0\n",
       "windspeed     0\n",
       "casual        0\n",
       "registered    0\n",
       "cnt           0\n",
       "dtype: int64"
      ]
     },
     "execution_count": 543,
     "metadata": {},
     "output_type": "execute_result"
    }
   ],
   "source": [
    "day_df.isna().sum()"
   ]
  },
  {
   "cell_type": "markdown",
   "metadata": {
    "id": "7dtxhAPrkhPL"
   },
   "source": [
    "**Insight:**\n",
    "Tidak ada yang salah dengan data tersebut, karena semua kolom memiliki jumlah nilai yang tidak kosong (NaN) sebesar 0, yang berarti semua kolom terisi dengan data yang valid."
   ]
  },
  {
   "cell_type": "code",
   "execution_count": 544,
   "metadata": {
    "id": "ax-3tEjc9Cj1"
   },
   "outputs": [
    {
     "name": "stdout",
     "output_type": "stream",
     "text": [
      "Jumlah duplikasi:  0\n"
     ]
    },
    {
     "data": {
      "text/html": [
       "<div>\n",
       "<style scoped>\n",
       "    .dataframe tbody tr th:only-of-type {\n",
       "        vertical-align: middle;\n",
       "    }\n",
       "\n",
       "    .dataframe tbody tr th {\n",
       "        vertical-align: top;\n",
       "    }\n",
       "\n",
       "    .dataframe thead th {\n",
       "        text-align: right;\n",
       "    }\n",
       "</style>\n",
       "<table border=\"1\" class=\"dataframe\">\n",
       "  <thead>\n",
       "    <tr style=\"text-align: right;\">\n",
       "      <th></th>\n",
       "      <th>instant</th>\n",
       "      <th>season</th>\n",
       "      <th>yr</th>\n",
       "      <th>mnth</th>\n",
       "      <th>holiday</th>\n",
       "      <th>weekday</th>\n",
       "      <th>workingday</th>\n",
       "      <th>weathersit</th>\n",
       "      <th>temp</th>\n",
       "      <th>atemp</th>\n",
       "      <th>hum</th>\n",
       "      <th>windspeed</th>\n",
       "      <th>casual</th>\n",
       "      <th>registered</th>\n",
       "      <th>cnt</th>\n",
       "    </tr>\n",
       "  </thead>\n",
       "  <tbody>\n",
       "    <tr>\n",
       "      <th>count</th>\n",
       "      <td>731.000000</td>\n",
       "      <td>731.000000</td>\n",
       "      <td>731.000000</td>\n",
       "      <td>731.000000</td>\n",
       "      <td>731.000000</td>\n",
       "      <td>731.000000</td>\n",
       "      <td>731.000000</td>\n",
       "      <td>731.000000</td>\n",
       "      <td>731.000000</td>\n",
       "      <td>731.000000</td>\n",
       "      <td>731.000000</td>\n",
       "      <td>731.000000</td>\n",
       "      <td>731.000000</td>\n",
       "      <td>731.000000</td>\n",
       "      <td>731.000000</td>\n",
       "    </tr>\n",
       "    <tr>\n",
       "      <th>mean</th>\n",
       "      <td>366.000000</td>\n",
       "      <td>2.496580</td>\n",
       "      <td>0.500684</td>\n",
       "      <td>6.519836</td>\n",
       "      <td>0.028728</td>\n",
       "      <td>2.997264</td>\n",
       "      <td>0.683995</td>\n",
       "      <td>1.395349</td>\n",
       "      <td>0.495385</td>\n",
       "      <td>0.474354</td>\n",
       "      <td>0.627894</td>\n",
       "      <td>0.190486</td>\n",
       "      <td>848.176471</td>\n",
       "      <td>3656.172367</td>\n",
       "      <td>4504.348837</td>\n",
       "    </tr>\n",
       "    <tr>\n",
       "      <th>std</th>\n",
       "      <td>211.165812</td>\n",
       "      <td>1.110807</td>\n",
       "      <td>0.500342</td>\n",
       "      <td>3.451913</td>\n",
       "      <td>0.167155</td>\n",
       "      <td>2.004787</td>\n",
       "      <td>0.465233</td>\n",
       "      <td>0.544894</td>\n",
       "      <td>0.183051</td>\n",
       "      <td>0.162961</td>\n",
       "      <td>0.142429</td>\n",
       "      <td>0.077498</td>\n",
       "      <td>686.622488</td>\n",
       "      <td>1560.256377</td>\n",
       "      <td>1937.211452</td>\n",
       "    </tr>\n",
       "    <tr>\n",
       "      <th>min</th>\n",
       "      <td>1.000000</td>\n",
       "      <td>1.000000</td>\n",
       "      <td>0.000000</td>\n",
       "      <td>1.000000</td>\n",
       "      <td>0.000000</td>\n",
       "      <td>0.000000</td>\n",
       "      <td>0.000000</td>\n",
       "      <td>1.000000</td>\n",
       "      <td>0.059130</td>\n",
       "      <td>0.079070</td>\n",
       "      <td>0.000000</td>\n",
       "      <td>0.022392</td>\n",
       "      <td>2.000000</td>\n",
       "      <td>20.000000</td>\n",
       "      <td>22.000000</td>\n",
       "    </tr>\n",
       "    <tr>\n",
       "      <th>25%</th>\n",
       "      <td>183.500000</td>\n",
       "      <td>2.000000</td>\n",
       "      <td>0.000000</td>\n",
       "      <td>4.000000</td>\n",
       "      <td>0.000000</td>\n",
       "      <td>1.000000</td>\n",
       "      <td>0.000000</td>\n",
       "      <td>1.000000</td>\n",
       "      <td>0.337083</td>\n",
       "      <td>0.337842</td>\n",
       "      <td>0.520000</td>\n",
       "      <td>0.134950</td>\n",
       "      <td>315.500000</td>\n",
       "      <td>2497.000000</td>\n",
       "      <td>3152.000000</td>\n",
       "    </tr>\n",
       "    <tr>\n",
       "      <th>50%</th>\n",
       "      <td>366.000000</td>\n",
       "      <td>3.000000</td>\n",
       "      <td>1.000000</td>\n",
       "      <td>7.000000</td>\n",
       "      <td>0.000000</td>\n",
       "      <td>3.000000</td>\n",
       "      <td>1.000000</td>\n",
       "      <td>1.000000</td>\n",
       "      <td>0.498333</td>\n",
       "      <td>0.486733</td>\n",
       "      <td>0.626667</td>\n",
       "      <td>0.180975</td>\n",
       "      <td>713.000000</td>\n",
       "      <td>3662.000000</td>\n",
       "      <td>4548.000000</td>\n",
       "    </tr>\n",
       "    <tr>\n",
       "      <th>75%</th>\n",
       "      <td>548.500000</td>\n",
       "      <td>3.000000</td>\n",
       "      <td>1.000000</td>\n",
       "      <td>10.000000</td>\n",
       "      <td>0.000000</td>\n",
       "      <td>5.000000</td>\n",
       "      <td>1.000000</td>\n",
       "      <td>2.000000</td>\n",
       "      <td>0.655417</td>\n",
       "      <td>0.608602</td>\n",
       "      <td>0.730209</td>\n",
       "      <td>0.233214</td>\n",
       "      <td>1096.000000</td>\n",
       "      <td>4776.500000</td>\n",
       "      <td>5956.000000</td>\n",
       "    </tr>\n",
       "    <tr>\n",
       "      <th>max</th>\n",
       "      <td>731.000000</td>\n",
       "      <td>4.000000</td>\n",
       "      <td>1.000000</td>\n",
       "      <td>12.000000</td>\n",
       "      <td>1.000000</td>\n",
       "      <td>6.000000</td>\n",
       "      <td>1.000000</td>\n",
       "      <td>3.000000</td>\n",
       "      <td>0.861667</td>\n",
       "      <td>0.840896</td>\n",
       "      <td>0.972500</td>\n",
       "      <td>0.507463</td>\n",
       "      <td>3410.000000</td>\n",
       "      <td>6946.000000</td>\n",
       "      <td>8714.000000</td>\n",
       "    </tr>\n",
       "  </tbody>\n",
       "</table>\n",
       "</div>"
      ],
      "text/plain": [
       "          instant      season          yr        mnth     holiday     weekday  \\\n",
       "count  731.000000  731.000000  731.000000  731.000000  731.000000  731.000000   \n",
       "mean   366.000000    2.496580    0.500684    6.519836    0.028728    2.997264   \n",
       "std    211.165812    1.110807    0.500342    3.451913    0.167155    2.004787   \n",
       "min      1.000000    1.000000    0.000000    1.000000    0.000000    0.000000   \n",
       "25%    183.500000    2.000000    0.000000    4.000000    0.000000    1.000000   \n",
       "50%    366.000000    3.000000    1.000000    7.000000    0.000000    3.000000   \n",
       "75%    548.500000    3.000000    1.000000   10.000000    0.000000    5.000000   \n",
       "max    731.000000    4.000000    1.000000   12.000000    1.000000    6.000000   \n",
       "\n",
       "       workingday  weathersit        temp       atemp         hum   windspeed  \\\n",
       "count  731.000000  731.000000  731.000000  731.000000  731.000000  731.000000   \n",
       "mean     0.683995    1.395349    0.495385    0.474354    0.627894    0.190486   \n",
       "std      0.465233    0.544894    0.183051    0.162961    0.142429    0.077498   \n",
       "min      0.000000    1.000000    0.059130    0.079070    0.000000    0.022392   \n",
       "25%      0.000000    1.000000    0.337083    0.337842    0.520000    0.134950   \n",
       "50%      1.000000    1.000000    0.498333    0.486733    0.626667    0.180975   \n",
       "75%      1.000000    2.000000    0.655417    0.608602    0.730209    0.233214   \n",
       "max      1.000000    3.000000    0.861667    0.840896    0.972500    0.507463   \n",
       "\n",
       "            casual   registered          cnt  \n",
       "count   731.000000   731.000000   731.000000  \n",
       "mean    848.176471  3656.172367  4504.348837  \n",
       "std     686.622488  1560.256377  1937.211452  \n",
       "min       2.000000    20.000000    22.000000  \n",
       "25%     315.500000  2497.000000  3152.000000  \n",
       "50%     713.000000  3662.000000  4548.000000  \n",
       "75%    1096.000000  4776.500000  5956.000000  \n",
       "max    3410.000000  6946.000000  8714.000000  "
      ]
     },
     "execution_count": 544,
     "metadata": {},
     "output_type": "execute_result"
    }
   ],
   "source": [
    "print(\"Jumlah duplikasi: \", day_df.duplicated().sum())\n",
    "day_df.describe()"
   ]
  },
  {
   "cell_type": "markdown",
   "metadata": {
    "id": "7dtxhAPrkhPL"
   },
   "source": [
    "**Insight:**\n",
    "Tidak Terdapat duplikasi"
   ]
  },
  {
   "cell_type": "code",
   "execution_count": 545,
   "metadata": {
    "id": "ax-3tEjc9Cj1"
   },
   "outputs": [
    {
     "name": "stdout",
     "output_type": "stream",
     "text": [
      "True    731\n",
      "Name: count, dtype: int64\n",
      "Empty DataFrame\n",
      "Columns: [instant, dteday, season, yr, mnth, holiday, weekday, workingday, weathersit, temp, atemp, hum, windspeed, casual, registered, cnt, calculated_cnt]\n",
      "Index: []\n"
     ]
    }
   ],
   "source": [
    "# Menambahkan kolom baru yang merupakan hasil penjumlahan casual dan registered\n",
    "day_df['calculated_cnt'] = day_df['casual'] + day_df['registered']\n",
    "\n",
    "# Memeriksa apakah nilai calculated_cnt sama dengan cnt\n",
    "comparison = day_df['cnt'] == day_df['calculated_cnt']\n",
    "\n",
    "# Menampilkan hasil perbandingan\n",
    "print(comparison.value_counts())  # Jika True semua, berarti penjumlahan benar\n",
    "\n",
    "# Melihat data yang tidak sesuai jika ada\n",
    "incorrect_rows = day_df[~comparison]\n",
    "print(incorrect_rows)"
   ]
  },
  {
   "cell_type": "markdown",
   "metadata": {
    "id": "7dtxhAPrkhPL"
   },
   "source": [
    "**Insight:**\n",
    "- Data tidak memiliki masalah terkait penjumlahan antara casual + registered dengan cnt di day_df.\n",
    "- Sehingga bisa lanjut ke tahap analisis berikutnya karena data untuk kolom cnt sudah valid."
   ]
  },
  {
   "cell_type": "markdown",
   "metadata": {
    "id": "7dtxhAPrkhPL"
   },
   "source": [
    "**Menilai tabel hour_df**"
   ]
  },
  {
   "cell_type": "code",
   "execution_count": 546,
   "metadata": {
    "id": "ax-3tEjc9Cj1"
   },
   "outputs": [
    {
     "name": "stdout",
     "output_type": "stream",
     "text": [
      "<class 'pandas.core.frame.DataFrame'>\n",
      "RangeIndex: 17379 entries, 0 to 17378\n",
      "Data columns (total 17 columns):\n",
      " #   Column      Non-Null Count  Dtype  \n",
      "---  ------      --------------  -----  \n",
      " 0   instant     17379 non-null  int64  \n",
      " 1   dteday      17379 non-null  object \n",
      " 2   season      17379 non-null  int64  \n",
      " 3   yr          17379 non-null  int64  \n",
      " 4   mnth        17379 non-null  int64  \n",
      " 5   hr          17379 non-null  int64  \n",
      " 6   holiday     17379 non-null  int64  \n",
      " 7   weekday     17379 non-null  int64  \n",
      " 8   workingday  17379 non-null  int64  \n",
      " 9   weathersit  17379 non-null  int64  \n",
      " 10  temp        17379 non-null  float64\n",
      " 11  atemp       17379 non-null  float64\n",
      " 12  hum         17379 non-null  float64\n",
      " 13  windspeed   17379 non-null  float64\n",
      " 14  casual      17379 non-null  int64  \n",
      " 15  registered  17379 non-null  int64  \n",
      " 16  cnt         17379 non-null  int64  \n",
      "dtypes: float64(4), int64(12), object(1)\n",
      "memory usage: 2.3+ MB\n"
     ]
    }
   ],
   "source": [
    "hour_df.info()"
   ]
  },
  {
   "cell_type": "markdown",
   "metadata": {
    "id": "7dtxhAPrkhPL"
   },
   "source": [
    "**Insight:**\n",
    "Secara umum, data terlihat tampak baik akan tetapi ada beberapa hal yang perlu diperhatikan:\n",
    "- Kolom dteday: untuk mempermudah analisis tipe data dteday sebaiknya diubah menjadi datetime.\n",
    "- Kolom yr: Akan lebih baik menggunakan tipe data kategorikal (0: 2011 atau 1: 2012).\n",
    "- manth, season, holiday, weekday, workingday, weathersit: karena hanya memiliki beberapa kategori, lebih baik mengonversi kolom-kolom ini menjadi category daripada int64 untuk efisiensi memori dan performa yang lebih baik.\n",
    "- Kolom casual, registered, dan cnt: Pastikan nilai cnt sesuai dengan penjumlahan casual dan registered."
   ]
  },
  {
   "cell_type": "code",
   "execution_count": 547,
   "metadata": {
    "id": "ax-3tEjc9Cj1"
   },
   "outputs": [
    {
     "data": {
      "text/plain": [
       "instant       0\n",
       "dteday        0\n",
       "season        0\n",
       "yr            0\n",
       "mnth          0\n",
       "hr            0\n",
       "holiday       0\n",
       "weekday       0\n",
       "workingday    0\n",
       "weathersit    0\n",
       "temp          0\n",
       "atemp         0\n",
       "hum           0\n",
       "windspeed     0\n",
       "casual        0\n",
       "registered    0\n",
       "cnt           0\n",
       "dtype: int64"
      ]
     },
     "execution_count": 547,
     "metadata": {},
     "output_type": "execute_result"
    }
   ],
   "source": [
    "hour_df.isna().sum()"
   ]
  },
  {
   "cell_type": "markdown",
   "metadata": {
    "id": "7dtxhAPrkhPL"
   },
   "source": [
    "**Insight:**\n",
    "Tidak ada yang salah dengan data tersebut, karena semua kolom memiliki jumlah nilai yang tidak kosong (NaN) sebesar 0, yang berarti semua kolom terisi dengan data yang valid."
   ]
  },
  {
   "cell_type": "code",
   "execution_count": 548,
   "metadata": {
    "id": "ax-3tEjc9Cj1"
   },
   "outputs": [
    {
     "name": "stdout",
     "output_type": "stream",
     "text": [
      "Jumlah duplikasi:  0\n"
     ]
    },
    {
     "data": {
      "text/html": [
       "<div>\n",
       "<style scoped>\n",
       "    .dataframe tbody tr th:only-of-type {\n",
       "        vertical-align: middle;\n",
       "    }\n",
       "\n",
       "    .dataframe tbody tr th {\n",
       "        vertical-align: top;\n",
       "    }\n",
       "\n",
       "    .dataframe thead th {\n",
       "        text-align: right;\n",
       "    }\n",
       "</style>\n",
       "<table border=\"1\" class=\"dataframe\">\n",
       "  <thead>\n",
       "    <tr style=\"text-align: right;\">\n",
       "      <th></th>\n",
       "      <th>instant</th>\n",
       "      <th>season</th>\n",
       "      <th>yr</th>\n",
       "      <th>mnth</th>\n",
       "      <th>hr</th>\n",
       "      <th>holiday</th>\n",
       "      <th>weekday</th>\n",
       "      <th>workingday</th>\n",
       "      <th>weathersit</th>\n",
       "      <th>temp</th>\n",
       "      <th>atemp</th>\n",
       "      <th>hum</th>\n",
       "      <th>windspeed</th>\n",
       "      <th>casual</th>\n",
       "      <th>registered</th>\n",
       "      <th>cnt</th>\n",
       "    </tr>\n",
       "  </thead>\n",
       "  <tbody>\n",
       "    <tr>\n",
       "      <th>count</th>\n",
       "      <td>17379.0000</td>\n",
       "      <td>17379.000000</td>\n",
       "      <td>17379.000000</td>\n",
       "      <td>17379.000000</td>\n",
       "      <td>17379.000000</td>\n",
       "      <td>17379.000000</td>\n",
       "      <td>17379.000000</td>\n",
       "      <td>17379.000000</td>\n",
       "      <td>17379.000000</td>\n",
       "      <td>17379.000000</td>\n",
       "      <td>17379.000000</td>\n",
       "      <td>17379.000000</td>\n",
       "      <td>17379.000000</td>\n",
       "      <td>17379.000000</td>\n",
       "      <td>17379.000000</td>\n",
       "      <td>17379.000000</td>\n",
       "    </tr>\n",
       "    <tr>\n",
       "      <th>mean</th>\n",
       "      <td>8690.0000</td>\n",
       "      <td>2.501640</td>\n",
       "      <td>0.502561</td>\n",
       "      <td>6.537775</td>\n",
       "      <td>11.546752</td>\n",
       "      <td>0.028770</td>\n",
       "      <td>3.003683</td>\n",
       "      <td>0.682721</td>\n",
       "      <td>1.425283</td>\n",
       "      <td>0.496987</td>\n",
       "      <td>0.475775</td>\n",
       "      <td>0.627229</td>\n",
       "      <td>0.190098</td>\n",
       "      <td>35.676218</td>\n",
       "      <td>153.786869</td>\n",
       "      <td>189.463088</td>\n",
       "    </tr>\n",
       "    <tr>\n",
       "      <th>std</th>\n",
       "      <td>5017.0295</td>\n",
       "      <td>1.106918</td>\n",
       "      <td>0.500008</td>\n",
       "      <td>3.438776</td>\n",
       "      <td>6.914405</td>\n",
       "      <td>0.167165</td>\n",
       "      <td>2.005771</td>\n",
       "      <td>0.465431</td>\n",
       "      <td>0.639357</td>\n",
       "      <td>0.192556</td>\n",
       "      <td>0.171850</td>\n",
       "      <td>0.192930</td>\n",
       "      <td>0.122340</td>\n",
       "      <td>49.305030</td>\n",
       "      <td>151.357286</td>\n",
       "      <td>181.387599</td>\n",
       "    </tr>\n",
       "    <tr>\n",
       "      <th>min</th>\n",
       "      <td>1.0000</td>\n",
       "      <td>1.000000</td>\n",
       "      <td>0.000000</td>\n",
       "      <td>1.000000</td>\n",
       "      <td>0.000000</td>\n",
       "      <td>0.000000</td>\n",
       "      <td>0.000000</td>\n",
       "      <td>0.000000</td>\n",
       "      <td>1.000000</td>\n",
       "      <td>0.020000</td>\n",
       "      <td>0.000000</td>\n",
       "      <td>0.000000</td>\n",
       "      <td>0.000000</td>\n",
       "      <td>0.000000</td>\n",
       "      <td>0.000000</td>\n",
       "      <td>1.000000</td>\n",
       "    </tr>\n",
       "    <tr>\n",
       "      <th>25%</th>\n",
       "      <td>4345.5000</td>\n",
       "      <td>2.000000</td>\n",
       "      <td>0.000000</td>\n",
       "      <td>4.000000</td>\n",
       "      <td>6.000000</td>\n",
       "      <td>0.000000</td>\n",
       "      <td>1.000000</td>\n",
       "      <td>0.000000</td>\n",
       "      <td>1.000000</td>\n",
       "      <td>0.340000</td>\n",
       "      <td>0.333300</td>\n",
       "      <td>0.480000</td>\n",
       "      <td>0.104500</td>\n",
       "      <td>4.000000</td>\n",
       "      <td>34.000000</td>\n",
       "      <td>40.000000</td>\n",
       "    </tr>\n",
       "    <tr>\n",
       "      <th>50%</th>\n",
       "      <td>8690.0000</td>\n",
       "      <td>3.000000</td>\n",
       "      <td>1.000000</td>\n",
       "      <td>7.000000</td>\n",
       "      <td>12.000000</td>\n",
       "      <td>0.000000</td>\n",
       "      <td>3.000000</td>\n",
       "      <td>1.000000</td>\n",
       "      <td>1.000000</td>\n",
       "      <td>0.500000</td>\n",
       "      <td>0.484800</td>\n",
       "      <td>0.630000</td>\n",
       "      <td>0.194000</td>\n",
       "      <td>17.000000</td>\n",
       "      <td>115.000000</td>\n",
       "      <td>142.000000</td>\n",
       "    </tr>\n",
       "    <tr>\n",
       "      <th>75%</th>\n",
       "      <td>13034.5000</td>\n",
       "      <td>3.000000</td>\n",
       "      <td>1.000000</td>\n",
       "      <td>10.000000</td>\n",
       "      <td>18.000000</td>\n",
       "      <td>0.000000</td>\n",
       "      <td>5.000000</td>\n",
       "      <td>1.000000</td>\n",
       "      <td>2.000000</td>\n",
       "      <td>0.660000</td>\n",
       "      <td>0.621200</td>\n",
       "      <td>0.780000</td>\n",
       "      <td>0.253700</td>\n",
       "      <td>48.000000</td>\n",
       "      <td>220.000000</td>\n",
       "      <td>281.000000</td>\n",
       "    </tr>\n",
       "    <tr>\n",
       "      <th>max</th>\n",
       "      <td>17379.0000</td>\n",
       "      <td>4.000000</td>\n",
       "      <td>1.000000</td>\n",
       "      <td>12.000000</td>\n",
       "      <td>23.000000</td>\n",
       "      <td>1.000000</td>\n",
       "      <td>6.000000</td>\n",
       "      <td>1.000000</td>\n",
       "      <td>4.000000</td>\n",
       "      <td>1.000000</td>\n",
       "      <td>1.000000</td>\n",
       "      <td>1.000000</td>\n",
       "      <td>0.850700</td>\n",
       "      <td>367.000000</td>\n",
       "      <td>886.000000</td>\n",
       "      <td>977.000000</td>\n",
       "    </tr>\n",
       "  </tbody>\n",
       "</table>\n",
       "</div>"
      ],
      "text/plain": [
       "          instant        season            yr          mnth            hr  \\\n",
       "count  17379.0000  17379.000000  17379.000000  17379.000000  17379.000000   \n",
       "mean    8690.0000      2.501640      0.502561      6.537775     11.546752   \n",
       "std     5017.0295      1.106918      0.500008      3.438776      6.914405   \n",
       "min        1.0000      1.000000      0.000000      1.000000      0.000000   \n",
       "25%     4345.5000      2.000000      0.000000      4.000000      6.000000   \n",
       "50%     8690.0000      3.000000      1.000000      7.000000     12.000000   \n",
       "75%    13034.5000      3.000000      1.000000     10.000000     18.000000   \n",
       "max    17379.0000      4.000000      1.000000     12.000000     23.000000   \n",
       "\n",
       "            holiday       weekday    workingday    weathersit          temp  \\\n",
       "count  17379.000000  17379.000000  17379.000000  17379.000000  17379.000000   \n",
       "mean       0.028770      3.003683      0.682721      1.425283      0.496987   \n",
       "std        0.167165      2.005771      0.465431      0.639357      0.192556   \n",
       "min        0.000000      0.000000      0.000000      1.000000      0.020000   \n",
       "25%        0.000000      1.000000      0.000000      1.000000      0.340000   \n",
       "50%        0.000000      3.000000      1.000000      1.000000      0.500000   \n",
       "75%        0.000000      5.000000      1.000000      2.000000      0.660000   \n",
       "max        1.000000      6.000000      1.000000      4.000000      1.000000   \n",
       "\n",
       "              atemp           hum     windspeed        casual    registered  \\\n",
       "count  17379.000000  17379.000000  17379.000000  17379.000000  17379.000000   \n",
       "mean       0.475775      0.627229      0.190098     35.676218    153.786869   \n",
       "std        0.171850      0.192930      0.122340     49.305030    151.357286   \n",
       "min        0.000000      0.000000      0.000000      0.000000      0.000000   \n",
       "25%        0.333300      0.480000      0.104500      4.000000     34.000000   \n",
       "50%        0.484800      0.630000      0.194000     17.000000    115.000000   \n",
       "75%        0.621200      0.780000      0.253700     48.000000    220.000000   \n",
       "max        1.000000      1.000000      0.850700    367.000000    886.000000   \n",
       "\n",
       "                cnt  \n",
       "count  17379.000000  \n",
       "mean     189.463088  \n",
       "std      181.387599  \n",
       "min        1.000000  \n",
       "25%       40.000000  \n",
       "50%      142.000000  \n",
       "75%      281.000000  \n",
       "max      977.000000  "
      ]
     },
     "execution_count": 548,
     "metadata": {},
     "output_type": "execute_result"
    }
   ],
   "source": [
    "print(\"Jumlah duplikasi: \", hour_df.duplicated().sum())\n",
    "hour_df.describe()"
   ]
  },
  {
   "cell_type": "markdown",
   "metadata": {
    "id": "7dtxhAPrkhPL"
   },
   "source": [
    "**Insight:**\n",
    "Tidak Terdapat duplikasi"
   ]
  },
  {
   "cell_type": "code",
   "execution_count": 549,
   "metadata": {
    "id": "ax-3tEjc9Cj1"
   },
   "outputs": [
    {
     "name": "stdout",
     "output_type": "stream",
     "text": [
      "True    17379\n",
      "Name: count, dtype: int64\n",
      "Empty DataFrame\n",
      "Columns: [instant, dteday, season, yr, mnth, hr, holiday, weekday, workingday, weathersit, temp, atemp, hum, windspeed, casual, registered, cnt, calculated_cnt]\n",
      "Index: []\n"
     ]
    }
   ],
   "source": [
    "# Menambahkan kolom baru yang merupakan hasil penjumlahan casual dan registered\n",
    "hour_df['calculated_cnt'] = hour_df['casual'] + hour_df['registered']\n",
    "\n",
    "# Memeriksa apakah nilai calculated_cnt sama dengan cnt\n",
    "comparison = hour_df['cnt'] == hour_df['calculated_cnt']\n",
    "\n",
    "# Menampilkan hasil perbandingan\n",
    "print(comparison.value_counts())  # Jika True semua, berarti penjumlahan benar\n",
    "\n",
    "# Melihat data yang tidak sesuai jika ada\n",
    "incorrect_rows = hour_df[~comparison]\n",
    "print(incorrect_rows)"
   ]
  },
  {
   "cell_type": "markdown",
   "metadata": {
    "id": "7dtxhAPrkhPL"
   },
   "source": [
    "**Insight:**\n",
    "- Data tidak memiliki masalah terkait penjumlahan antara casual + registered dengan cnt di day_df.\n",
    "- Sehingga bisa lanjut ke tahap analisis berikutnya karena data untuk kolom cnt sudah valid."
   ]
  },
  {
   "cell_type": "markdown",
   "metadata": {
    "id": "EhN5R4hr8DC1"
   },
   "source": [
    "### Cleaning Data"
   ]
  },
  {
   "cell_type": "markdown",
   "metadata": {
    "id": "Q_5ejIqckiSP"
   },
   "source": [
    "**Membersihkan tabel day_df**"
   ]
  },
  {
   "cell_type": "code",
   "execution_count": 550,
   "metadata": {
    "id": "ax-3tEjc9Cj1"
   },
   "outputs": [
    {
     "name": "stdout",
     "output_type": "stream",
     "text": [
      "instant                    int64\n",
      "dteday            datetime64[ns]\n",
      "season                     int64\n",
      "yr                         int64\n",
      "mnth                       int64\n",
      "holiday                    int64\n",
      "weekday                    int64\n",
      "workingday                 int64\n",
      "weathersit                 int64\n",
      "temp                     float64\n",
      "atemp                    float64\n",
      "hum                      float64\n",
      "windspeed                float64\n",
      "casual                     int64\n",
      "registered                 int64\n",
      "cnt                        int64\n",
      "calculated_cnt             int64\n",
      "dtype: object\n"
     ]
    }
   ],
   "source": [
    "# Mengubah tipe data kolom 'dteday' menjadi datetime\n",
    "day_df['dteday'] = pd.to_datetime(day_df['dteday'])\n",
    "\n",
    "# Cek tipe data kolom setelah perubahan\n",
    "print(day_df.dtypes)"
   ]
  },
  {
   "cell_type": "code",
   "execution_count": 551,
   "metadata": {
    "id": "ax-3tEjc9Cj1"
   },
   "outputs": [
    {
     "name": "stdout",
     "output_type": "stream",
     "text": [
      "instant                    int64\n",
      "dteday            datetime64[ns]\n",
      "season                  category\n",
      "yr                      category\n",
      "mnth                    category\n",
      "holiday                 category\n",
      "weekday                 category\n",
      "workingday              category\n",
      "weathersit              category\n",
      "temp                     float64\n",
      "atemp                    float64\n",
      "hum                      float64\n",
      "windspeed                float64\n",
      "casual                     int64\n",
      "registered                 int64\n",
      "cnt                        int64\n",
      "calculated_cnt             int64\n",
      "dtype: object\n"
     ]
    }
   ],
   "source": [
    "# Mengubah kolom menjadi tipe kategorikal\n",
    "day_df['yr'] = day_df['yr'].astype('category')\n",
    "day_df['mnth'] = day_df['mnth'].astype('category')\n",
    "day_df['season'] = day_df['season'].astype('category')\n",
    "day_df['holiday'] = day_df['holiday'].astype('category')\n",
    "day_df['weekday'] = day_df['weekday'].astype('category')\n",
    "day_df['workingday'] = day_df['workingday'].astype('category')\n",
    "day_df['weathersit'] = day_df['weathersit'].astype('category')\n",
    "\n",
    "# Cek tipe data setelah perubahan\n",
    "print(day_df.dtypes)"
   ]
  },
  {
   "cell_type": "markdown",
   "metadata": {
    "id": "Q_5ejIqckiSP"
   },
   "source": [
    "**Insight:**\n",
    "Berdasarkan hasil identifikasi masalah data di tahap Assesing Data pada data day_df,\n",
    "- Kolom yr: Akan lebih baik menggunakan tipe data kategorikal (0: 2011 atau 1: 2012).\n",
    "- Season, holiday, weekday, workingday, weathersit: karena hanya memiliki beberapa kategori, lebih baik mengonversi kolom-kolom ini menjadi category daripada int64 untuk efisiensi memori dan performa yang lebih baik."
   ]
  },
  {
   "cell_type": "code",
   "execution_count": 552,
   "metadata": {
    "id": "ax-3tEjc9Cj1"
   },
   "outputs": [
    {
     "data": {
      "text/html": [
       "<div>\n",
       "<style scoped>\n",
       "    .dataframe tbody tr th:only-of-type {\n",
       "        vertical-align: middle;\n",
       "    }\n",
       "\n",
       "    .dataframe tbody tr th {\n",
       "        vertical-align: top;\n",
       "    }\n",
       "\n",
       "    .dataframe thead th {\n",
       "        text-align: right;\n",
       "    }\n",
       "</style>\n",
       "<table border=\"1\" class=\"dataframe\">\n",
       "  <thead>\n",
       "    <tr style=\"text-align: right;\">\n",
       "      <th></th>\n",
       "      <th>instant</th>\n",
       "      <th>dteday</th>\n",
       "      <th>season</th>\n",
       "      <th>yr</th>\n",
       "      <th>mnth</th>\n",
       "      <th>holiday</th>\n",
       "      <th>weekday</th>\n",
       "      <th>workingday</th>\n",
       "      <th>weathersit</th>\n",
       "      <th>temp</th>\n",
       "      <th>atemp</th>\n",
       "      <th>hum</th>\n",
       "      <th>windspeed</th>\n",
       "      <th>casual</th>\n",
       "      <th>registered</th>\n",
       "      <th>cnt</th>\n",
       "      <th>calculated_cnt</th>\n",
       "    </tr>\n",
       "  </thead>\n",
       "  <tbody>\n",
       "    <tr>\n",
       "      <th>0</th>\n",
       "      <td>1</td>\n",
       "      <td>2011-01-01</td>\n",
       "      <td>1</td>\n",
       "      <td>0</td>\n",
       "      <td>1</td>\n",
       "      <td>0</td>\n",
       "      <td>6</td>\n",
       "      <td>0</td>\n",
       "      <td>2</td>\n",
       "      <td>0.344167</td>\n",
       "      <td>0.363625</td>\n",
       "      <td>0.805833</td>\n",
       "      <td>0.160446</td>\n",
       "      <td>331</td>\n",
       "      <td>654</td>\n",
       "      <td>985</td>\n",
       "      <td>985</td>\n",
       "    </tr>\n",
       "    <tr>\n",
       "      <th>1</th>\n",
       "      <td>2</td>\n",
       "      <td>2011-01-02</td>\n",
       "      <td>1</td>\n",
       "      <td>0</td>\n",
       "      <td>1</td>\n",
       "      <td>0</td>\n",
       "      <td>0</td>\n",
       "      <td>0</td>\n",
       "      <td>2</td>\n",
       "      <td>0.363478</td>\n",
       "      <td>0.353739</td>\n",
       "      <td>0.696087</td>\n",
       "      <td>0.248539</td>\n",
       "      <td>131</td>\n",
       "      <td>670</td>\n",
       "      <td>801</td>\n",
       "      <td>801</td>\n",
       "    </tr>\n",
       "    <tr>\n",
       "      <th>2</th>\n",
       "      <td>3</td>\n",
       "      <td>2011-01-03</td>\n",
       "      <td>1</td>\n",
       "      <td>0</td>\n",
       "      <td>1</td>\n",
       "      <td>0</td>\n",
       "      <td>1</td>\n",
       "      <td>1</td>\n",
       "      <td>1</td>\n",
       "      <td>0.196364</td>\n",
       "      <td>0.189405</td>\n",
       "      <td>0.437273</td>\n",
       "      <td>0.248309</td>\n",
       "      <td>120</td>\n",
       "      <td>1229</td>\n",
       "      <td>1349</td>\n",
       "      <td>1349</td>\n",
       "    </tr>\n",
       "    <tr>\n",
       "      <th>3</th>\n",
       "      <td>4</td>\n",
       "      <td>2011-01-04</td>\n",
       "      <td>1</td>\n",
       "      <td>0</td>\n",
       "      <td>1</td>\n",
       "      <td>0</td>\n",
       "      <td>2</td>\n",
       "      <td>1</td>\n",
       "      <td>1</td>\n",
       "      <td>0.200000</td>\n",
       "      <td>0.212122</td>\n",
       "      <td>0.590435</td>\n",
       "      <td>0.160296</td>\n",
       "      <td>108</td>\n",
       "      <td>1454</td>\n",
       "      <td>1562</td>\n",
       "      <td>1562</td>\n",
       "    </tr>\n",
       "    <tr>\n",
       "      <th>4</th>\n",
       "      <td>5</td>\n",
       "      <td>2011-01-05</td>\n",
       "      <td>1</td>\n",
       "      <td>0</td>\n",
       "      <td>1</td>\n",
       "      <td>0</td>\n",
       "      <td>3</td>\n",
       "      <td>1</td>\n",
       "      <td>1</td>\n",
       "      <td>0.226957</td>\n",
       "      <td>0.229270</td>\n",
       "      <td>0.436957</td>\n",
       "      <td>0.186900</td>\n",
       "      <td>82</td>\n",
       "      <td>1518</td>\n",
       "      <td>1600</td>\n",
       "      <td>1600</td>\n",
       "    </tr>\n",
       "  </tbody>\n",
       "</table>\n",
       "</div>"
      ],
      "text/plain": [
       "   instant     dteday season yr mnth holiday weekday workingday weathersit  \\\n",
       "0        1 2011-01-01      1  0    1       0       6          0          2   \n",
       "1        2 2011-01-02      1  0    1       0       0          0          2   \n",
       "2        3 2011-01-03      1  0    1       0       1          1          1   \n",
       "3        4 2011-01-04      1  0    1       0       2          1          1   \n",
       "4        5 2011-01-05      1  0    1       0       3          1          1   \n",
       "\n",
       "       temp     atemp       hum  windspeed  casual  registered   cnt  \\\n",
       "0  0.344167  0.363625  0.805833   0.160446     331         654   985   \n",
       "1  0.363478  0.353739  0.696087   0.248539     131         670   801   \n",
       "2  0.196364  0.189405  0.437273   0.248309     120        1229  1349   \n",
       "3  0.200000  0.212122  0.590435   0.160296     108        1454  1562   \n",
       "4  0.226957  0.229270  0.436957   0.186900      82        1518  1600   \n",
       "\n",
       "   calculated_cnt  \n",
       "0             985  \n",
       "1             801  \n",
       "2            1349  \n",
       "3            1562  \n",
       "4            1600  "
      ]
     },
     "execution_count": 552,
     "metadata": {},
     "output_type": "execute_result"
    }
   ],
   "source": [
    "day_df.head()"
   ]
  },
  {
   "cell_type": "markdown",
   "metadata": {
    "id": "Q_5ejIqckiSP"
   },
   "source": [
    "**Membersihkan tabel hour_df**"
   ]
  },
  {
   "cell_type": "code",
   "execution_count": 553,
   "metadata": {
    "id": "ax-3tEjc9Cj1"
   },
   "outputs": [
    {
     "name": "stdout",
     "output_type": "stream",
     "text": [
      "instant                    int64\n",
      "dteday            datetime64[ns]\n",
      "season                     int64\n",
      "yr                         int64\n",
      "mnth                       int64\n",
      "hr                         int64\n",
      "holiday                    int64\n",
      "weekday                    int64\n",
      "workingday                 int64\n",
      "weathersit                 int64\n",
      "temp                     float64\n",
      "atemp                    float64\n",
      "hum                      float64\n",
      "windspeed                float64\n",
      "casual                     int64\n",
      "registered                 int64\n",
      "cnt                        int64\n",
      "calculated_cnt             int64\n",
      "dtype: object\n"
     ]
    }
   ],
   "source": [
    "# Mengubah tipe data kolom 'dteday' menjadi datetime\n",
    "hour_df['dteday'] = pd.to_datetime(hour_df['dteday'])\n",
    "\n",
    "# Cek tipe data kolom setelah perubahan\n",
    "print(hour_df.dtypes)"
   ]
  },
  {
   "cell_type": "code",
   "execution_count": 554,
   "metadata": {
    "id": "ax-3tEjc9Cj1"
   },
   "outputs": [
    {
     "name": "stdout",
     "output_type": "stream",
     "text": [
      "instant                    int64\n",
      "dteday            datetime64[ns]\n",
      "season                  category\n",
      "yr                      category\n",
      "mnth                    category\n",
      "holiday                 category\n",
      "weekday                 category\n",
      "workingday              category\n",
      "weathersit              category\n",
      "temp                     float64\n",
      "atemp                    float64\n",
      "hum                      float64\n",
      "windspeed                float64\n",
      "casual                     int64\n",
      "registered                 int64\n",
      "cnt                        int64\n",
      "calculated_cnt             int64\n",
      "dtype: object\n"
     ]
    }
   ],
   "source": [
    "# Mengubah kolom menjadi tipe kategorikal\n",
    "day_df['yr'] = day_df['yr'].astype('category')\n",
    "day_df['mnth'] = day_df['mnth'].astype('category')\n",
    "day_df['season'] = day_df['season'].astype('category')\n",
    "day_df['holiday'] = day_df['holiday'].astype('category')\n",
    "day_df['weekday'] = day_df['weekday'].astype('category')\n",
    "day_df['workingday'] = day_df['workingday'].astype('category')\n",
    "day_df['weathersit'] = day_df['weathersit'].astype('category')\n",
    "\n",
    "# Cek tipe data setelah perubahan\n",
    "print(day_df.dtypes)"
   ]
  },
  {
   "cell_type": "markdown",
   "metadata": {
    "id": "Q_5ejIqckiSP"
   },
   "source": [
    "**Insight:**\n",
    "Berdasarkan hasil identifikasi masalah data di tahap Assesing Data pada data hour_df,\n",
    "- Kolom yr: Akan lebih baik menggunakan tipe data kategorikal (0: 2011 atau 1: 2012).\n",
    "- Season, holiday, weekday, workingday, weathersit: karena hanya memiliki beberapa kategori, lebih baik mengonversi kolom-kolom ini menjadi category daripada int64 untuk efisiensi memori dan performa yang lebih baik."
   ]
  },
  {
   "cell_type": "code",
   "execution_count": 555,
   "metadata": {
    "id": "ax-3tEjc9Cj1"
   },
   "outputs": [
    {
     "data": {
      "text/html": [
       "<div>\n",
       "<style scoped>\n",
       "    .dataframe tbody tr th:only-of-type {\n",
       "        vertical-align: middle;\n",
       "    }\n",
       "\n",
       "    .dataframe tbody tr th {\n",
       "        vertical-align: top;\n",
       "    }\n",
       "\n",
       "    .dataframe thead th {\n",
       "        text-align: right;\n",
       "    }\n",
       "</style>\n",
       "<table border=\"1\" class=\"dataframe\">\n",
       "  <thead>\n",
       "    <tr style=\"text-align: right;\">\n",
       "      <th></th>\n",
       "      <th>instant</th>\n",
       "      <th>dteday</th>\n",
       "      <th>season</th>\n",
       "      <th>yr</th>\n",
       "      <th>mnth</th>\n",
       "      <th>hr</th>\n",
       "      <th>holiday</th>\n",
       "      <th>weekday</th>\n",
       "      <th>workingday</th>\n",
       "      <th>weathersit</th>\n",
       "      <th>temp</th>\n",
       "      <th>atemp</th>\n",
       "      <th>hum</th>\n",
       "      <th>windspeed</th>\n",
       "      <th>casual</th>\n",
       "      <th>registered</th>\n",
       "      <th>cnt</th>\n",
       "      <th>calculated_cnt</th>\n",
       "    </tr>\n",
       "  </thead>\n",
       "  <tbody>\n",
       "    <tr>\n",
       "      <th>0</th>\n",
       "      <td>1</td>\n",
       "      <td>2011-01-01</td>\n",
       "      <td>1</td>\n",
       "      <td>0</td>\n",
       "      <td>1</td>\n",
       "      <td>0</td>\n",
       "      <td>0</td>\n",
       "      <td>6</td>\n",
       "      <td>0</td>\n",
       "      <td>1</td>\n",
       "      <td>0.24</td>\n",
       "      <td>0.2879</td>\n",
       "      <td>0.81</td>\n",
       "      <td>0.0</td>\n",
       "      <td>3</td>\n",
       "      <td>13</td>\n",
       "      <td>16</td>\n",
       "      <td>16</td>\n",
       "    </tr>\n",
       "    <tr>\n",
       "      <th>1</th>\n",
       "      <td>2</td>\n",
       "      <td>2011-01-01</td>\n",
       "      <td>1</td>\n",
       "      <td>0</td>\n",
       "      <td>1</td>\n",
       "      <td>1</td>\n",
       "      <td>0</td>\n",
       "      <td>6</td>\n",
       "      <td>0</td>\n",
       "      <td>1</td>\n",
       "      <td>0.22</td>\n",
       "      <td>0.2727</td>\n",
       "      <td>0.80</td>\n",
       "      <td>0.0</td>\n",
       "      <td>8</td>\n",
       "      <td>32</td>\n",
       "      <td>40</td>\n",
       "      <td>40</td>\n",
       "    </tr>\n",
       "    <tr>\n",
       "      <th>2</th>\n",
       "      <td>3</td>\n",
       "      <td>2011-01-01</td>\n",
       "      <td>1</td>\n",
       "      <td>0</td>\n",
       "      <td>1</td>\n",
       "      <td>2</td>\n",
       "      <td>0</td>\n",
       "      <td>6</td>\n",
       "      <td>0</td>\n",
       "      <td>1</td>\n",
       "      <td>0.22</td>\n",
       "      <td>0.2727</td>\n",
       "      <td>0.80</td>\n",
       "      <td>0.0</td>\n",
       "      <td>5</td>\n",
       "      <td>27</td>\n",
       "      <td>32</td>\n",
       "      <td>32</td>\n",
       "    </tr>\n",
       "    <tr>\n",
       "      <th>3</th>\n",
       "      <td>4</td>\n",
       "      <td>2011-01-01</td>\n",
       "      <td>1</td>\n",
       "      <td>0</td>\n",
       "      <td>1</td>\n",
       "      <td>3</td>\n",
       "      <td>0</td>\n",
       "      <td>6</td>\n",
       "      <td>0</td>\n",
       "      <td>1</td>\n",
       "      <td>0.24</td>\n",
       "      <td>0.2879</td>\n",
       "      <td>0.75</td>\n",
       "      <td>0.0</td>\n",
       "      <td>3</td>\n",
       "      <td>10</td>\n",
       "      <td>13</td>\n",
       "      <td>13</td>\n",
       "    </tr>\n",
       "    <tr>\n",
       "      <th>4</th>\n",
       "      <td>5</td>\n",
       "      <td>2011-01-01</td>\n",
       "      <td>1</td>\n",
       "      <td>0</td>\n",
       "      <td>1</td>\n",
       "      <td>4</td>\n",
       "      <td>0</td>\n",
       "      <td>6</td>\n",
       "      <td>0</td>\n",
       "      <td>1</td>\n",
       "      <td>0.24</td>\n",
       "      <td>0.2879</td>\n",
       "      <td>0.75</td>\n",
       "      <td>0.0</td>\n",
       "      <td>0</td>\n",
       "      <td>1</td>\n",
       "      <td>1</td>\n",
       "      <td>1</td>\n",
       "    </tr>\n",
       "  </tbody>\n",
       "</table>\n",
       "</div>"
      ],
      "text/plain": [
       "   instant     dteday  season  yr  mnth  hr  holiday  weekday  workingday  \\\n",
       "0        1 2011-01-01       1   0     1   0        0        6           0   \n",
       "1        2 2011-01-01       1   0     1   1        0        6           0   \n",
       "2        3 2011-01-01       1   0     1   2        0        6           0   \n",
       "3        4 2011-01-01       1   0     1   3        0        6           0   \n",
       "4        5 2011-01-01       1   0     1   4        0        6           0   \n",
       "\n",
       "   weathersit  temp   atemp   hum  windspeed  casual  registered  cnt  \\\n",
       "0           1  0.24  0.2879  0.81        0.0       3          13   16   \n",
       "1           1  0.22  0.2727  0.80        0.0       8          32   40   \n",
       "2           1  0.22  0.2727  0.80        0.0       5          27   32   \n",
       "3           1  0.24  0.2879  0.75        0.0       3          10   13   \n",
       "4           1  0.24  0.2879  0.75        0.0       0           1    1   \n",
       "\n",
       "   calculated_cnt  \n",
       "0              16  \n",
       "1              40  \n",
       "2              32  \n",
       "3              13  \n",
       "4               1  "
      ]
     },
     "execution_count": 555,
     "metadata": {},
     "output_type": "execute_result"
    }
   ],
   "source": [
    "hour_df.head()"
   ]
  },
  {
   "cell_type": "markdown",
   "metadata": {
    "id": "Q_5ejIqckiSP"
   },
   "source": [
    "**Menggabungkan data day_df dan hour_df**"
   ]
  },
  {
   "cell_type": "code",
   "execution_count": 556,
   "metadata": {
    "id": "ax-3tEjc9Cj1"
   },
   "outputs": [
    {
     "name": "stdout",
     "output_type": "stream",
     "text": [
      "      dteday  hr\n",
      "0 2011-01-01   0\n",
      "1 2011-01-02   0\n",
      "2 2011-01-03   0\n",
      "3 2011-01-04   0\n",
      "4 2011-01-05   0\n"
     ]
    }
   ],
   "source": [
    "# Menghitung jam yang paling sering muncul (mode) untuk setiap hari di hour_df\n",
    "most_frequent_hour_per_day = hour_df.groupby('dteday')['hr'].agg(lambda x: x.mode()[0]).reset_index()\n",
    "\n",
    "# Menampilkan hasil untuk memastikan mode sudah dihitung dengan benar\n",
    "print(most_frequent_hour_per_day.head())"
   ]
  },
  {
   "cell_type": "markdown",
   "metadata": {
    "id": "Q_5ejIqckiSP"
   },
   "source": [
    "**Insight:**\n",
    "Menunjukkan jam yang paling sering muncul di setiap hari (dteday), yang mewakili jam dengan jumlah sewa sepeda terbanyak pada hari tersebut."
   ]
  },
  {
   "cell_type": "code",
   "execution_count": 557,
   "metadata": {
    "id": "ax-3tEjc9Cj1"
   },
   "outputs": [
    {
     "name": "stdout",
     "output_type": "stream",
     "text": [
      "   instant     dteday season yr mnth holiday weekday workingday weathersit  \\\n",
      "0        1 2011-01-01      1  0    1       0       6          0          2   \n",
      "1        2 2011-01-02      1  0    1       0       0          0          2   \n",
      "2        3 2011-01-03      1  0    1       0       1          1          1   \n",
      "3        4 2011-01-04      1  0    1       0       2          1          1   \n",
      "4        5 2011-01-05      1  0    1       0       3          1          1   \n",
      "\n",
      "       temp     atemp       hum  windspeed  casual  registered   cnt  \\\n",
      "0  0.344167  0.363625  0.805833   0.160446     331         654   985   \n",
      "1  0.363478  0.353739  0.696087   0.248539     131         670   801   \n",
      "2  0.196364  0.189405  0.437273   0.248309     120        1229  1349   \n",
      "3  0.200000  0.212122  0.590435   0.160296     108        1454  1562   \n",
      "4  0.226957  0.229270  0.436957   0.186900      82        1518  1600   \n",
      "\n",
      "   calculated_cnt  hr  \n",
      "0             985   0  \n",
      "1             801   0  \n",
      "2            1349   0  \n",
      "3            1562   0  \n",
      "4            1600   0  \n"
     ]
    }
   ],
   "source": [
    "# Gabungkan jam yang paling sering muncul ke day_df berdasarkan dteday\n",
    "day_df = pd.merge(day_df, most_frequent_hour_per_day, on='dteday', how='left')\n",
    "\n",
    "# Menampilkan hasil gabungan untuk memverifikasi\n",
    "print(day_df.head())"
   ]
  },
  {
   "cell_type": "markdown",
   "metadata": {
    "id": "Q_5ejIqckiSP"
   },
   "source": [
    "**Insight:**\n",
    "Setelah penggabungan, kolom baru yang berisi jam yang paling sering muncul (hr) pada setiap hari akan ditambahkan ke dalam day_df. Hal ini memungkinkan untuk analisis lebih lanjut mengenai pola sewa sepeda berdasarkan waktu dalam satu hari."
   ]
  },
  {
   "cell_type": "code",
   "execution_count": 558,
   "metadata": {
    "id": "ax-3tEjc9Cj1",
    "scrolled": true
   },
   "outputs": [
    {
     "data": {
      "text/html": [
       "<div>\n",
       "<style scoped>\n",
       "    .dataframe tbody tr th:only-of-type {\n",
       "        vertical-align: middle;\n",
       "    }\n",
       "\n",
       "    .dataframe tbody tr th {\n",
       "        vertical-align: top;\n",
       "    }\n",
       "\n",
       "    .dataframe thead th {\n",
       "        text-align: right;\n",
       "    }\n",
       "</style>\n",
       "<table border=\"1\" class=\"dataframe\">\n",
       "  <thead>\n",
       "    <tr style=\"text-align: right;\">\n",
       "      <th></th>\n",
       "      <th>instant</th>\n",
       "      <th>dteday</th>\n",
       "      <th>season</th>\n",
       "      <th>yr</th>\n",
       "      <th>mnth</th>\n",
       "      <th>holiday</th>\n",
       "      <th>weekday</th>\n",
       "      <th>workingday</th>\n",
       "      <th>weathersit</th>\n",
       "      <th>temp</th>\n",
       "      <th>atemp</th>\n",
       "      <th>hum</th>\n",
       "      <th>windspeed</th>\n",
       "      <th>casual</th>\n",
       "      <th>registered</th>\n",
       "      <th>cnt</th>\n",
       "      <th>calculated_cnt</th>\n",
       "      <th>hr</th>\n",
       "    </tr>\n",
       "  </thead>\n",
       "  <tbody>\n",
       "    <tr>\n",
       "      <th>0</th>\n",
       "      <td>1</td>\n",
       "      <td>2011-01-01</td>\n",
       "      <td>1</td>\n",
       "      <td>0</td>\n",
       "      <td>1</td>\n",
       "      <td>0</td>\n",
       "      <td>6</td>\n",
       "      <td>0</td>\n",
       "      <td>2</td>\n",
       "      <td>0.344167</td>\n",
       "      <td>0.363625</td>\n",
       "      <td>0.805833</td>\n",
       "      <td>0.160446</td>\n",
       "      <td>331</td>\n",
       "      <td>654</td>\n",
       "      <td>985</td>\n",
       "      <td>985</td>\n",
       "      <td>0</td>\n",
       "    </tr>\n",
       "    <tr>\n",
       "      <th>1</th>\n",
       "      <td>2</td>\n",
       "      <td>2011-01-02</td>\n",
       "      <td>1</td>\n",
       "      <td>0</td>\n",
       "      <td>1</td>\n",
       "      <td>0</td>\n",
       "      <td>0</td>\n",
       "      <td>0</td>\n",
       "      <td>2</td>\n",
       "      <td>0.363478</td>\n",
       "      <td>0.353739</td>\n",
       "      <td>0.696087</td>\n",
       "      <td>0.248539</td>\n",
       "      <td>131</td>\n",
       "      <td>670</td>\n",
       "      <td>801</td>\n",
       "      <td>801</td>\n",
       "      <td>0</td>\n",
       "    </tr>\n",
       "    <tr>\n",
       "      <th>2</th>\n",
       "      <td>3</td>\n",
       "      <td>2011-01-03</td>\n",
       "      <td>1</td>\n",
       "      <td>0</td>\n",
       "      <td>1</td>\n",
       "      <td>0</td>\n",
       "      <td>1</td>\n",
       "      <td>1</td>\n",
       "      <td>1</td>\n",
       "      <td>0.196364</td>\n",
       "      <td>0.189405</td>\n",
       "      <td>0.437273</td>\n",
       "      <td>0.248309</td>\n",
       "      <td>120</td>\n",
       "      <td>1229</td>\n",
       "      <td>1349</td>\n",
       "      <td>1349</td>\n",
       "      <td>0</td>\n",
       "    </tr>\n",
       "    <tr>\n",
       "      <th>3</th>\n",
       "      <td>4</td>\n",
       "      <td>2011-01-04</td>\n",
       "      <td>1</td>\n",
       "      <td>0</td>\n",
       "      <td>1</td>\n",
       "      <td>0</td>\n",
       "      <td>2</td>\n",
       "      <td>1</td>\n",
       "      <td>1</td>\n",
       "      <td>0.200000</td>\n",
       "      <td>0.212122</td>\n",
       "      <td>0.590435</td>\n",
       "      <td>0.160296</td>\n",
       "      <td>108</td>\n",
       "      <td>1454</td>\n",
       "      <td>1562</td>\n",
       "      <td>1562</td>\n",
       "      <td>0</td>\n",
       "    </tr>\n",
       "    <tr>\n",
       "      <th>4</th>\n",
       "      <td>5</td>\n",
       "      <td>2011-01-05</td>\n",
       "      <td>1</td>\n",
       "      <td>0</td>\n",
       "      <td>1</td>\n",
       "      <td>0</td>\n",
       "      <td>3</td>\n",
       "      <td>1</td>\n",
       "      <td>1</td>\n",
       "      <td>0.226957</td>\n",
       "      <td>0.229270</td>\n",
       "      <td>0.436957</td>\n",
       "      <td>0.186900</td>\n",
       "      <td>82</td>\n",
       "      <td>1518</td>\n",
       "      <td>1600</td>\n",
       "      <td>1600</td>\n",
       "      <td>0</td>\n",
       "    </tr>\n",
       "  </tbody>\n",
       "</table>\n",
       "</div>"
      ],
      "text/plain": [
       "   instant     dteday season yr mnth holiday weekday workingday weathersit  \\\n",
       "0        1 2011-01-01      1  0    1       0       6          0          2   \n",
       "1        2 2011-01-02      1  0    1       0       0          0          2   \n",
       "2        3 2011-01-03      1  0    1       0       1          1          1   \n",
       "3        4 2011-01-04      1  0    1       0       2          1          1   \n",
       "4        5 2011-01-05      1  0    1       0       3          1          1   \n",
       "\n",
       "       temp     atemp       hum  windspeed  casual  registered   cnt  \\\n",
       "0  0.344167  0.363625  0.805833   0.160446     331         654   985   \n",
       "1  0.363478  0.353739  0.696087   0.248539     131         670   801   \n",
       "2  0.196364  0.189405  0.437273   0.248309     120        1229  1349   \n",
       "3  0.200000  0.212122  0.590435   0.160296     108        1454  1562   \n",
       "4  0.226957  0.229270  0.436957   0.186900      82        1518  1600   \n",
       "\n",
       "   calculated_cnt  hr  \n",
       "0             985   0  \n",
       "1             801   0  \n",
       "2            1349   0  \n",
       "3            1562   0  \n",
       "4            1600   0  "
      ]
     },
     "execution_count": 558,
     "metadata": {},
     "output_type": "execute_result"
    }
   ],
   "source": [
    "# Memeriksa hasil gabungan\n",
    "day_df.head()"
   ]
  },
  {
   "cell_type": "code",
   "execution_count": 559,
   "metadata": {
    "id": "e9CQCZjk8DC2"
   },
   "outputs": [
    {
     "name": "stdout",
     "output_type": "stream",
     "text": [
      "<class 'pandas.core.frame.DataFrame'>\n",
      "RangeIndex: 731 entries, 0 to 730\n",
      "Data columns (total 18 columns):\n",
      " #   Column          Non-Null Count  Dtype         \n",
      "---  ------          --------------  -----         \n",
      " 0   instant         731 non-null    int64         \n",
      " 1   dteday          731 non-null    datetime64[ns]\n",
      " 2   season          731 non-null    category      \n",
      " 3   yr              731 non-null    category      \n",
      " 4   mnth            731 non-null    category      \n",
      " 5   holiday         731 non-null    category      \n",
      " 6   weekday         731 non-null    category      \n",
      " 7   workingday      731 non-null    category      \n",
      " 8   weathersit      731 non-null    category      \n",
      " 9   temp            731 non-null    float64       \n",
      " 10  atemp           731 non-null    float64       \n",
      " 11  hum             731 non-null    float64       \n",
      " 12  windspeed       731 non-null    float64       \n",
      " 13  casual          731 non-null    int64         \n",
      " 14  registered      731 non-null    int64         \n",
      " 15  cnt             731 non-null    int64         \n",
      " 16  calculated_cnt  731 non-null    int64         \n",
      " 17  hr              731 non-null    int64         \n",
      "dtypes: category(7), datetime64[ns](1), float64(4), int64(6)\n",
      "memory usage: 69.4 KB\n"
     ]
    }
   ],
   "source": [
    "# Memeriksa tipe data dan nilai yang hilang\n",
    "day_df.info()"
   ]
  },
  {
   "cell_type": "markdown",
   "metadata": {
    "id": "gp-Y6wU38DC1"
   },
   "source": [
    "## Exploratory Data Analysis (EDA)"
   ]
  },
  {
   "cell_type": "markdown",
   "metadata": {
    "id": "MW7WF2kr8DC1"
   },
   "source": [
    "### Explore day_df"
   ]
  },
  {
   "cell_type": "code",
   "execution_count": 560,
   "metadata": {
    "id": "e9CQCZjk8DC2"
   },
   "outputs": [
    {
     "data": {
      "text/html": [
       "<div>\n",
       "<style scoped>\n",
       "    .dataframe tbody tr th:only-of-type {\n",
       "        vertical-align: middle;\n",
       "    }\n",
       "\n",
       "    .dataframe tbody tr th {\n",
       "        vertical-align: top;\n",
       "    }\n",
       "\n",
       "    .dataframe thead th {\n",
       "        text-align: right;\n",
       "    }\n",
       "</style>\n",
       "<table border=\"1\" class=\"dataframe\">\n",
       "  <thead>\n",
       "    <tr style=\"text-align: right;\">\n",
       "      <th></th>\n",
       "      <th>instant</th>\n",
       "      <th>dteday</th>\n",
       "      <th>season</th>\n",
       "      <th>yr</th>\n",
       "      <th>mnth</th>\n",
       "      <th>holiday</th>\n",
       "      <th>weekday</th>\n",
       "      <th>workingday</th>\n",
       "      <th>weathersit</th>\n",
       "      <th>temp</th>\n",
       "      <th>atemp</th>\n",
       "      <th>hum</th>\n",
       "      <th>windspeed</th>\n",
       "      <th>casual</th>\n",
       "      <th>registered</th>\n",
       "      <th>cnt</th>\n",
       "      <th>calculated_cnt</th>\n",
       "      <th>hr</th>\n",
       "    </tr>\n",
       "  </thead>\n",
       "  <tbody>\n",
       "    <tr>\n",
       "      <th>count</th>\n",
       "      <td>731.000000</td>\n",
       "      <td>731</td>\n",
       "      <td>731.0</td>\n",
       "      <td>731.0</td>\n",
       "      <td>731.0</td>\n",
       "      <td>731.0</td>\n",
       "      <td>731.0</td>\n",
       "      <td>731.0</td>\n",
       "      <td>731.0</td>\n",
       "      <td>731.000000</td>\n",
       "      <td>731.000000</td>\n",
       "      <td>731.000000</td>\n",
       "      <td>731.000000</td>\n",
       "      <td>731.000000</td>\n",
       "      <td>731.000000</td>\n",
       "      <td>731.000000</td>\n",
       "      <td>731.000000</td>\n",
       "      <td>731.000000</td>\n",
       "    </tr>\n",
       "    <tr>\n",
       "      <th>unique</th>\n",
       "      <td>NaN</td>\n",
       "      <td>NaN</td>\n",
       "      <td>4.0</td>\n",
       "      <td>2.0</td>\n",
       "      <td>12.0</td>\n",
       "      <td>2.0</td>\n",
       "      <td>7.0</td>\n",
       "      <td>2.0</td>\n",
       "      <td>3.0</td>\n",
       "      <td>NaN</td>\n",
       "      <td>NaN</td>\n",
       "      <td>NaN</td>\n",
       "      <td>NaN</td>\n",
       "      <td>NaN</td>\n",
       "      <td>NaN</td>\n",
       "      <td>NaN</td>\n",
       "      <td>NaN</td>\n",
       "      <td>NaN</td>\n",
       "    </tr>\n",
       "    <tr>\n",
       "      <th>top</th>\n",
       "      <td>NaN</td>\n",
       "      <td>NaN</td>\n",
       "      <td>3.0</td>\n",
       "      <td>1.0</td>\n",
       "      <td>1.0</td>\n",
       "      <td>0.0</td>\n",
       "      <td>0.0</td>\n",
       "      <td>1.0</td>\n",
       "      <td>1.0</td>\n",
       "      <td>NaN</td>\n",
       "      <td>NaN</td>\n",
       "      <td>NaN</td>\n",
       "      <td>NaN</td>\n",
       "      <td>NaN</td>\n",
       "      <td>NaN</td>\n",
       "      <td>NaN</td>\n",
       "      <td>NaN</td>\n",
       "      <td>NaN</td>\n",
       "    </tr>\n",
       "    <tr>\n",
       "      <th>freq</th>\n",
       "      <td>NaN</td>\n",
       "      <td>NaN</td>\n",
       "      <td>188.0</td>\n",
       "      <td>366.0</td>\n",
       "      <td>62.0</td>\n",
       "      <td>710.0</td>\n",
       "      <td>105.0</td>\n",
       "      <td>500.0</td>\n",
       "      <td>463.0</td>\n",
       "      <td>NaN</td>\n",
       "      <td>NaN</td>\n",
       "      <td>NaN</td>\n",
       "      <td>NaN</td>\n",
       "      <td>NaN</td>\n",
       "      <td>NaN</td>\n",
       "      <td>NaN</td>\n",
       "      <td>NaN</td>\n",
       "      <td>NaN</td>\n",
       "    </tr>\n",
       "    <tr>\n",
       "      <th>mean</th>\n",
       "      <td>366.000000</td>\n",
       "      <td>2012-01-01 00:00:00</td>\n",
       "      <td>NaN</td>\n",
       "      <td>NaN</td>\n",
       "      <td>NaN</td>\n",
       "      <td>NaN</td>\n",
       "      <td>NaN</td>\n",
       "      <td>NaN</td>\n",
       "      <td>NaN</td>\n",
       "      <td>0.495385</td>\n",
       "      <td>0.474354</td>\n",
       "      <td>0.627894</td>\n",
       "      <td>0.190486</td>\n",
       "      <td>848.176471</td>\n",
       "      <td>3656.172367</td>\n",
       "      <td>4504.348837</td>\n",
       "      <td>4504.348837</td>\n",
       "      <td>0.073871</td>\n",
       "    </tr>\n",
       "    <tr>\n",
       "      <th>min</th>\n",
       "      <td>1.000000</td>\n",
       "      <td>2011-01-01 00:00:00</td>\n",
       "      <td>NaN</td>\n",
       "      <td>NaN</td>\n",
       "      <td>NaN</td>\n",
       "      <td>NaN</td>\n",
       "      <td>NaN</td>\n",
       "      <td>NaN</td>\n",
       "      <td>NaN</td>\n",
       "      <td>0.059130</td>\n",
       "      <td>0.079070</td>\n",
       "      <td>0.000000</td>\n",
       "      <td>0.022392</td>\n",
       "      <td>2.000000</td>\n",
       "      <td>20.000000</td>\n",
       "      <td>22.000000</td>\n",
       "      <td>22.000000</td>\n",
       "      <td>0.000000</td>\n",
       "    </tr>\n",
       "    <tr>\n",
       "      <th>25%</th>\n",
       "      <td>183.500000</td>\n",
       "      <td>2011-07-02 12:00:00</td>\n",
       "      <td>NaN</td>\n",
       "      <td>NaN</td>\n",
       "      <td>NaN</td>\n",
       "      <td>NaN</td>\n",
       "      <td>NaN</td>\n",
       "      <td>NaN</td>\n",
       "      <td>NaN</td>\n",
       "      <td>0.337083</td>\n",
       "      <td>0.337842</td>\n",
       "      <td>0.520000</td>\n",
       "      <td>0.134950</td>\n",
       "      <td>315.500000</td>\n",
       "      <td>2497.000000</td>\n",
       "      <td>3152.000000</td>\n",
       "      <td>3152.000000</td>\n",
       "      <td>0.000000</td>\n",
       "    </tr>\n",
       "    <tr>\n",
       "      <th>50%</th>\n",
       "      <td>366.000000</td>\n",
       "      <td>2012-01-01 00:00:00</td>\n",
       "      <td>NaN</td>\n",
       "      <td>NaN</td>\n",
       "      <td>NaN</td>\n",
       "      <td>NaN</td>\n",
       "      <td>NaN</td>\n",
       "      <td>NaN</td>\n",
       "      <td>NaN</td>\n",
       "      <td>0.498333</td>\n",
       "      <td>0.486733</td>\n",
       "      <td>0.626667</td>\n",
       "      <td>0.180975</td>\n",
       "      <td>713.000000</td>\n",
       "      <td>3662.000000</td>\n",
       "      <td>4548.000000</td>\n",
       "      <td>4548.000000</td>\n",
       "      <td>0.000000</td>\n",
       "    </tr>\n",
       "    <tr>\n",
       "      <th>75%</th>\n",
       "      <td>548.500000</td>\n",
       "      <td>2012-07-01 12:00:00</td>\n",
       "      <td>NaN</td>\n",
       "      <td>NaN</td>\n",
       "      <td>NaN</td>\n",
       "      <td>NaN</td>\n",
       "      <td>NaN</td>\n",
       "      <td>NaN</td>\n",
       "      <td>NaN</td>\n",
       "      <td>0.655417</td>\n",
       "      <td>0.608602</td>\n",
       "      <td>0.730209</td>\n",
       "      <td>0.233214</td>\n",
       "      <td>1096.000000</td>\n",
       "      <td>4776.500000</td>\n",
       "      <td>5956.000000</td>\n",
       "      <td>5956.000000</td>\n",
       "      <td>0.000000</td>\n",
       "    </tr>\n",
       "    <tr>\n",
       "      <th>max</th>\n",
       "      <td>731.000000</td>\n",
       "      <td>2012-12-31 00:00:00</td>\n",
       "      <td>NaN</td>\n",
       "      <td>NaN</td>\n",
       "      <td>NaN</td>\n",
       "      <td>NaN</td>\n",
       "      <td>NaN</td>\n",
       "      <td>NaN</td>\n",
       "      <td>NaN</td>\n",
       "      <td>0.861667</td>\n",
       "      <td>0.840896</td>\n",
       "      <td>0.972500</td>\n",
       "      <td>0.507463</td>\n",
       "      <td>3410.000000</td>\n",
       "      <td>6946.000000</td>\n",
       "      <td>8714.000000</td>\n",
       "      <td>8714.000000</td>\n",
       "      <td>16.000000</td>\n",
       "    </tr>\n",
       "    <tr>\n",
       "      <th>std</th>\n",
       "      <td>211.165812</td>\n",
       "      <td>NaN</td>\n",
       "      <td>NaN</td>\n",
       "      <td>NaN</td>\n",
       "      <td>NaN</td>\n",
       "      <td>NaN</td>\n",
       "      <td>NaN</td>\n",
       "      <td>NaN</td>\n",
       "      <td>NaN</td>\n",
       "      <td>0.183051</td>\n",
       "      <td>0.162961</td>\n",
       "      <td>0.142429</td>\n",
       "      <td>0.077498</td>\n",
       "      <td>686.622488</td>\n",
       "      <td>1560.256377</td>\n",
       "      <td>1937.211452</td>\n",
       "      <td>1937.211452</td>\n",
       "      <td>0.943624</td>\n",
       "    </tr>\n",
       "  </tbody>\n",
       "</table>\n",
       "</div>"
      ],
      "text/plain": [
       "           instant               dteday  season     yr   mnth  holiday  \\\n",
       "count   731.000000                  731   731.0  731.0  731.0    731.0   \n",
       "unique         NaN                  NaN     4.0    2.0   12.0      2.0   \n",
       "top            NaN                  NaN     3.0    1.0    1.0      0.0   \n",
       "freq           NaN                  NaN   188.0  366.0   62.0    710.0   \n",
       "mean    366.000000  2012-01-01 00:00:00     NaN    NaN    NaN      NaN   \n",
       "min       1.000000  2011-01-01 00:00:00     NaN    NaN    NaN      NaN   \n",
       "25%     183.500000  2011-07-02 12:00:00     NaN    NaN    NaN      NaN   \n",
       "50%     366.000000  2012-01-01 00:00:00     NaN    NaN    NaN      NaN   \n",
       "75%     548.500000  2012-07-01 12:00:00     NaN    NaN    NaN      NaN   \n",
       "max     731.000000  2012-12-31 00:00:00     NaN    NaN    NaN      NaN   \n",
       "std     211.165812                  NaN     NaN    NaN    NaN      NaN   \n",
       "\n",
       "        weekday  workingday  weathersit        temp       atemp         hum  \\\n",
       "count     731.0       731.0       731.0  731.000000  731.000000  731.000000   \n",
       "unique      7.0         2.0         3.0         NaN         NaN         NaN   \n",
       "top         0.0         1.0         1.0         NaN         NaN         NaN   \n",
       "freq      105.0       500.0       463.0         NaN         NaN         NaN   \n",
       "mean        NaN         NaN         NaN    0.495385    0.474354    0.627894   \n",
       "min         NaN         NaN         NaN    0.059130    0.079070    0.000000   \n",
       "25%         NaN         NaN         NaN    0.337083    0.337842    0.520000   \n",
       "50%         NaN         NaN         NaN    0.498333    0.486733    0.626667   \n",
       "75%         NaN         NaN         NaN    0.655417    0.608602    0.730209   \n",
       "max         NaN         NaN         NaN    0.861667    0.840896    0.972500   \n",
       "std         NaN         NaN         NaN    0.183051    0.162961    0.142429   \n",
       "\n",
       "         windspeed       casual   registered          cnt  calculated_cnt  \\\n",
       "count   731.000000   731.000000   731.000000   731.000000      731.000000   \n",
       "unique         NaN          NaN          NaN          NaN             NaN   \n",
       "top            NaN          NaN          NaN          NaN             NaN   \n",
       "freq           NaN          NaN          NaN          NaN             NaN   \n",
       "mean      0.190486   848.176471  3656.172367  4504.348837     4504.348837   \n",
       "min       0.022392     2.000000    20.000000    22.000000       22.000000   \n",
       "25%       0.134950   315.500000  2497.000000  3152.000000     3152.000000   \n",
       "50%       0.180975   713.000000  3662.000000  4548.000000     4548.000000   \n",
       "75%       0.233214  1096.000000  4776.500000  5956.000000     5956.000000   \n",
       "max       0.507463  3410.000000  6946.000000  8714.000000     8714.000000   \n",
       "std       0.077498   686.622488  1560.256377  1937.211452     1937.211452   \n",
       "\n",
       "                hr  \n",
       "count   731.000000  \n",
       "unique         NaN  \n",
       "top            NaN  \n",
       "freq           NaN  \n",
       "mean      0.073871  \n",
       "min       0.000000  \n",
       "25%       0.000000  \n",
       "50%       0.000000  \n",
       "75%       0.000000  \n",
       "max      16.000000  \n",
       "std       0.943624  "
      ]
     },
     "execution_count": 560,
     "metadata": {},
     "output_type": "execute_result"
    }
   ],
   "source": [
    "day_df.describe(include=\"all\")"
   ]
  },
  {
   "cell_type": "markdown",
   "metadata": {
    "id": "th_Lzl2Fkj9O"
   },
   "source": [
    "**Insight:**\n",
    "Berdasarkan rangkuman parameter statistik di atas, kita akan memperoleh informasi berupa ringkasan distribusi data untuk masing-masing variabel. Ini mencakup:\n",
    "\n",
    "- Jumlah Data: Terdapat 731 baris data untuk semua variabel.\n",
    "- Nilai Unik: Menunjukkan banyaknya kategori unik untuk variabel kategorikal seperti season, weekday, holiday, dan lainnya.\n",
    "- Frekuensi Tertinggi (top): Menunjukkan kategori atau nilai yang paling sering muncul, seperti musim 3 dan tahun 1 yang paling sering ditemukan.\n",
    "- Statistik Deskriptif: Rata-rata, median, standar deviasi untuk variabel numerik seperti suhu (temp), kelembapan (hum), dan kecepatan angin (windspeed), serta total penyewaan sepeda (cnt, casual, registered).\n",
    "- Min/Max: Menunjukkan rentang nilai untuk variabel numerik, seperti suhu terendah 0,059 dan tertinggi 0,861.\n",
    "- Persentil (25%, 50%, 75%): Memberikan gambaran distribusi data dan sebaran nilai-nilai variabel."
   ]
  },
  {
   "cell_type": "code",
   "execution_count": 561,
   "metadata": {
    "id": "e9CQCZjk8DC2"
   },
   "outputs": [
    {
     "data": {
      "text/plain": [
       "True"
      ]
     },
     "execution_count": 561,
     "metadata": {},
     "output_type": "execute_result"
    }
   ],
   "source": [
    "day_df.instant.is_unique"
   ]
  },
  {
   "cell_type": "code",
   "execution_count": 562,
   "metadata": {
    "id": "e9CQCZjk8DC2"
   },
   "outputs": [
    {
     "name": "stdout",
     "output_type": "stream",
     "text": [
      "     instant     dteday  season    yr      mnth holiday    weekday workingday  \\\n",
      "0          1 2011-01-01  spring  2011   January       0   Saturday          0   \n",
      "1          2 2011-01-02  spring  2011   January       0     Sunday          0   \n",
      "2          3 2011-01-03  spring  2011   January       0     Monday          1   \n",
      "3          4 2011-01-04  spring  2011   January       0    Tuesday          1   \n",
      "4          5 2011-01-05  spring  2011   January       0  Wednesday          1   \n",
      "..       ...        ...     ...   ...       ...     ...        ...        ...   \n",
      "726      727 2012-12-27  spring  2012  December       0   Thursday          1   \n",
      "727      728 2012-12-28  spring  2012  December       0     Friday          1   \n",
      "728      729 2012-12-29  spring  2012  December       0   Saturday          0   \n",
      "729      730 2012-12-30  spring  2012  December       0     Sunday          0   \n",
      "730      731 2012-12-31  spring  2012  December       0     Monday          1   \n",
      "\n",
      "                                            weathersit      temp     atemp  \\\n",
      "0    Mist + Cloudy, Mist + Broken clouds, Mist + Fe...  0.344167  0.363625   \n",
      "1    Mist + Cloudy, Mist + Broken clouds, Mist + Fe...  0.363478  0.353739   \n",
      "2                     Clear, Few clouds, Partly cloudy  0.196364  0.189405   \n",
      "3                     Clear, Few clouds, Partly cloudy  0.200000  0.212122   \n",
      "4                     Clear, Few clouds, Partly cloudy  0.226957  0.229270   \n",
      "..                                                 ...       ...       ...   \n",
      "726  Mist + Cloudy, Mist + Broken clouds, Mist + Fe...  0.254167  0.226642   \n",
      "727  Mist + Cloudy, Mist + Broken clouds, Mist + Fe...  0.253333  0.255046   \n",
      "728  Mist + Cloudy, Mist + Broken clouds, Mist + Fe...  0.253333  0.242400   \n",
      "729                   Clear, Few clouds, Partly cloudy  0.255833  0.231700   \n",
      "730  Mist + Cloudy, Mist + Broken clouds, Mist + Fe...  0.215833  0.223487   \n",
      "\n",
      "          hum  windspeed  casual  registered   cnt  calculated_cnt  hr  \n",
      "0    0.805833   0.160446     331         654   985             985   0  \n",
      "1    0.696087   0.248539     131         670   801             801   0  \n",
      "2    0.437273   0.248309     120        1229  1349            1349   0  \n",
      "3    0.590435   0.160296     108        1454  1562            1562   0  \n",
      "4    0.436957   0.186900      82        1518  1600            1600   0  \n",
      "..        ...        ...     ...         ...   ...             ...  ..  \n",
      "726  0.652917   0.350133     247        1867  2114            2114   0  \n",
      "727  0.590000   0.155471     644        2451  3095            3095   0  \n",
      "728  0.752917   0.124383     159        1182  1341            1341   0  \n",
      "729  0.483333   0.350754     364        1432  1796            1796   0  \n",
      "730  0.577500   0.154846     439        2290  2729            2729   0  \n",
      "\n",
      "[731 rows x 18 columns]\n"
     ]
    }
   ],
   "source": [
    "# Mapping season\n",
    "season_mapping = {\n",
    "    1: 'spring',\n",
    "    2: 'summer',\n",
    "    3: 'fall',\n",
    "    4: 'winter'\n",
    "}\n",
    "\n",
    "# Mapping year\n",
    "year_mapping = {\n",
    "    0: 2011,\n",
    "    1: 2012\n",
    "}\n",
    "\n",
    "# Mapping bulan\n",
    "month_mapping = {\n",
    "    1: 'January', 2: 'February', 3: 'March', 4: 'April', 5: 'May', 6: 'June',\n",
    "    7: 'July', 8: 'August', 9: 'September', 10: 'October', 11: 'November', 12: 'December'\n",
    "}\n",
    "\n",
    "# Mapping weekday (0-6, 0 = Sunday)\n",
    "weekday_mapping = {\n",
    "    0: 'Sunday', 1: 'Monday', 2: 'Tuesday', 3: 'Wednesday', 4: 'Thursday', 5: 'Friday', 6: 'Saturday'\n",
    "}\n",
    "\n",
    "# Mapping weathersit\n",
    "weather_mapping = {\n",
    "    1: 'Clear, Few clouds, Partly cloudy',\n",
    "    2: 'Mist + Cloudy, Mist + Broken clouds, Mist + Few clouds, Mist',\n",
    "    3: 'Light Snow, Light Rain + Thunderstorm + Scattered clouds, Light Rain + Scattered clouds',\n",
    "    4: 'Heavy Rain + Ice Pallets + Thunderstorm + Mist, Snow + Fog'\n",
    "}\n",
    "\n",
    "# Mengubah kolom berdasarkan mapping yang sudah dibuat\n",
    "day_df['season'] = day_df['season'].map(season_mapping)\n",
    "day_df['yr'] = day_df['yr'].map(year_mapping)\n",
    "day_df['mnth'] = day_df['mnth'].map(month_mapping)\n",
    "day_df['weekday'] = day_df['weekday'].map(weekday_mapping)\n",
    "day_df['weathersit'] = day_df['weathersit'].map(weather_mapping)\n",
    "\n",
    "print(day_df)"
   ]
  },
  {
   "cell_type": "markdown",
   "metadata": {
    "id": "th_Lzl2Fkj9O"
   },
   "source": [
    "**Insight:**\n",
    "melakukan mapping atau penggantian nilai numerik pada beberapa kolom dalam DataFrame day_df menjadi nilai yang lebih deskriptif (seperti nama musim, bulan, hari dalam seminggu, kondisi cuaca, dan tahun). "
   ]
  },
  {
   "cell_type": "code",
   "execution_count": 563,
   "metadata": {
    "id": "e9CQCZjk8DC2"
   },
   "outputs": [
    {
     "data": {
      "text/html": [
       "<div>\n",
       "<style scoped>\n",
       "    .dataframe tbody tr th:only-of-type {\n",
       "        vertical-align: middle;\n",
       "    }\n",
       "\n",
       "    .dataframe tbody tr th {\n",
       "        vertical-align: top;\n",
       "    }\n",
       "\n",
       "    .dataframe thead th {\n",
       "        text-align: right;\n",
       "    }\n",
       "</style>\n",
       "<table border=\"1\" class=\"dataframe\">\n",
       "  <thead>\n",
       "    <tr style=\"text-align: right;\">\n",
       "      <th></th>\n",
       "      <th>instant</th>\n",
       "      <th>dteday</th>\n",
       "      <th>season</th>\n",
       "      <th>yr</th>\n",
       "      <th>mnth</th>\n",
       "      <th>holiday</th>\n",
       "      <th>weekday</th>\n",
       "      <th>workingday</th>\n",
       "      <th>weathersit</th>\n",
       "      <th>temp</th>\n",
       "      <th>atemp</th>\n",
       "      <th>hum</th>\n",
       "      <th>windspeed</th>\n",
       "      <th>casual</th>\n",
       "      <th>registered</th>\n",
       "      <th>cnt</th>\n",
       "      <th>calculated_cnt</th>\n",
       "      <th>hr</th>\n",
       "    </tr>\n",
       "  </thead>\n",
       "  <tbody>\n",
       "    <tr>\n",
       "      <th>0</th>\n",
       "      <td>1</td>\n",
       "      <td>2011-01-01</td>\n",
       "      <td>spring</td>\n",
       "      <td>2011</td>\n",
       "      <td>January</td>\n",
       "      <td>0</td>\n",
       "      <td>Saturday</td>\n",
       "      <td>0</td>\n",
       "      <td>Mist + Cloudy, Mist + Broken clouds, Mist + Fe...</td>\n",
       "      <td>0.344167</td>\n",
       "      <td>0.363625</td>\n",
       "      <td>0.805833</td>\n",
       "      <td>0.160446</td>\n",
       "      <td>331</td>\n",
       "      <td>654</td>\n",
       "      <td>985</td>\n",
       "      <td>985</td>\n",
       "      <td>0</td>\n",
       "    </tr>\n",
       "    <tr>\n",
       "      <th>1</th>\n",
       "      <td>2</td>\n",
       "      <td>2011-01-02</td>\n",
       "      <td>spring</td>\n",
       "      <td>2011</td>\n",
       "      <td>January</td>\n",
       "      <td>0</td>\n",
       "      <td>Sunday</td>\n",
       "      <td>0</td>\n",
       "      <td>Mist + Cloudy, Mist + Broken clouds, Mist + Fe...</td>\n",
       "      <td>0.363478</td>\n",
       "      <td>0.353739</td>\n",
       "      <td>0.696087</td>\n",
       "      <td>0.248539</td>\n",
       "      <td>131</td>\n",
       "      <td>670</td>\n",
       "      <td>801</td>\n",
       "      <td>801</td>\n",
       "      <td>0</td>\n",
       "    </tr>\n",
       "    <tr>\n",
       "      <th>2</th>\n",
       "      <td>3</td>\n",
       "      <td>2011-01-03</td>\n",
       "      <td>spring</td>\n",
       "      <td>2011</td>\n",
       "      <td>January</td>\n",
       "      <td>0</td>\n",
       "      <td>Monday</td>\n",
       "      <td>1</td>\n",
       "      <td>Clear, Few clouds, Partly cloudy</td>\n",
       "      <td>0.196364</td>\n",
       "      <td>0.189405</td>\n",
       "      <td>0.437273</td>\n",
       "      <td>0.248309</td>\n",
       "      <td>120</td>\n",
       "      <td>1229</td>\n",
       "      <td>1349</td>\n",
       "      <td>1349</td>\n",
       "      <td>0</td>\n",
       "    </tr>\n",
       "    <tr>\n",
       "      <th>3</th>\n",
       "      <td>4</td>\n",
       "      <td>2011-01-04</td>\n",
       "      <td>spring</td>\n",
       "      <td>2011</td>\n",
       "      <td>January</td>\n",
       "      <td>0</td>\n",
       "      <td>Tuesday</td>\n",
       "      <td>1</td>\n",
       "      <td>Clear, Few clouds, Partly cloudy</td>\n",
       "      <td>0.200000</td>\n",
       "      <td>0.212122</td>\n",
       "      <td>0.590435</td>\n",
       "      <td>0.160296</td>\n",
       "      <td>108</td>\n",
       "      <td>1454</td>\n",
       "      <td>1562</td>\n",
       "      <td>1562</td>\n",
       "      <td>0</td>\n",
       "    </tr>\n",
       "    <tr>\n",
       "      <th>4</th>\n",
       "      <td>5</td>\n",
       "      <td>2011-01-05</td>\n",
       "      <td>spring</td>\n",
       "      <td>2011</td>\n",
       "      <td>January</td>\n",
       "      <td>0</td>\n",
       "      <td>Wednesday</td>\n",
       "      <td>1</td>\n",
       "      <td>Clear, Few clouds, Partly cloudy</td>\n",
       "      <td>0.226957</td>\n",
       "      <td>0.229270</td>\n",
       "      <td>0.436957</td>\n",
       "      <td>0.186900</td>\n",
       "      <td>82</td>\n",
       "      <td>1518</td>\n",
       "      <td>1600</td>\n",
       "      <td>1600</td>\n",
       "      <td>0</td>\n",
       "    </tr>\n",
       "  </tbody>\n",
       "</table>\n",
       "</div>"
      ],
      "text/plain": [
       "   instant     dteday  season    yr     mnth holiday    weekday workingday  \\\n",
       "0        1 2011-01-01  spring  2011  January       0   Saturday          0   \n",
       "1        2 2011-01-02  spring  2011  January       0     Sunday          0   \n",
       "2        3 2011-01-03  spring  2011  January       0     Monday          1   \n",
       "3        4 2011-01-04  spring  2011  January       0    Tuesday          1   \n",
       "4        5 2011-01-05  spring  2011  January       0  Wednesday          1   \n",
       "\n",
       "                                          weathersit      temp     atemp  \\\n",
       "0  Mist + Cloudy, Mist + Broken clouds, Mist + Fe...  0.344167  0.363625   \n",
       "1  Mist + Cloudy, Mist + Broken clouds, Mist + Fe...  0.363478  0.353739   \n",
       "2                   Clear, Few clouds, Partly cloudy  0.196364  0.189405   \n",
       "3                   Clear, Few clouds, Partly cloudy  0.200000  0.212122   \n",
       "4                   Clear, Few clouds, Partly cloudy  0.226957  0.229270   \n",
       "\n",
       "        hum  windspeed  casual  registered   cnt  calculated_cnt  hr  \n",
       "0  0.805833   0.160446     331         654   985             985   0  \n",
       "1  0.696087   0.248539     131         670   801             801   0  \n",
       "2  0.437273   0.248309     120        1229  1349            1349   0  \n",
       "3  0.590435   0.160296     108        1454  1562            1562   0  \n",
       "4  0.436957   0.186900      82        1518  1600            1600   0  "
      ]
     },
     "execution_count": 563,
     "metadata": {},
     "output_type": "execute_result"
    }
   ],
   "source": [
    "day_df.head()"
   ]
  },
  {
   "cell_type": "markdown",
   "metadata": {
    "id": "_0-36BDLklRg"
   },
   "source": [
    "**Insight:**\n",
    "mengganti nilai numerik pada kolom-kolom seperti yr, season, dan lainnya dengan nama atau deskripsi yang jelas."
   ]
  },
  {
   "cell_type": "code",
   "execution_count": 564,
   "metadata": {
    "id": "e9CQCZjk8DC2"
   },
   "outputs": [
    {
     "data": {
      "text/html": [
       "<div>\n",
       "<style scoped>\n",
       "    .dataframe tbody tr th:only-of-type {\n",
       "        vertical-align: middle;\n",
       "    }\n",
       "\n",
       "    .dataframe tbody tr th {\n",
       "        vertical-align: top;\n",
       "    }\n",
       "\n",
       "    .dataframe thead tr th {\n",
       "        text-align: left;\n",
       "    }\n",
       "\n",
       "    .dataframe thead tr:last-of-type th {\n",
       "        text-align: right;\n",
       "    }\n",
       "</style>\n",
       "<table border=\"1\" class=\"dataframe\">\n",
       "  <thead>\n",
       "    <tr>\n",
       "      <th></th>\n",
       "      <th colspan=\"4\" halign=\"left\">cnt</th>\n",
       "    </tr>\n",
       "    <tr>\n",
       "      <th></th>\n",
       "      <th>mean</th>\n",
       "      <th>std</th>\n",
       "      <th>min</th>\n",
       "      <th>max</th>\n",
       "    </tr>\n",
       "    <tr>\n",
       "      <th>season</th>\n",
       "      <th></th>\n",
       "      <th></th>\n",
       "      <th></th>\n",
       "      <th></th>\n",
       "    </tr>\n",
       "  </thead>\n",
       "  <tbody>\n",
       "    <tr>\n",
       "      <th>spring</th>\n",
       "      <td>2604.132597</td>\n",
       "      <td>1399.942119</td>\n",
       "      <td>431</td>\n",
       "      <td>7836</td>\n",
       "    </tr>\n",
       "    <tr>\n",
       "      <th>summer</th>\n",
       "      <td>4992.331522</td>\n",
       "      <td>1695.977235</td>\n",
       "      <td>795</td>\n",
       "      <td>8362</td>\n",
       "    </tr>\n",
       "    <tr>\n",
       "      <th>fall</th>\n",
       "      <td>5644.303191</td>\n",
       "      <td>1459.800381</td>\n",
       "      <td>1115</td>\n",
       "      <td>8714</td>\n",
       "    </tr>\n",
       "    <tr>\n",
       "      <th>winter</th>\n",
       "      <td>4728.162921</td>\n",
       "      <td>1699.615261</td>\n",
       "      <td>22</td>\n",
       "      <td>8555</td>\n",
       "    </tr>\n",
       "  </tbody>\n",
       "</table>\n",
       "</div>"
      ],
      "text/plain": [
       "                cnt                         \n",
       "               mean          std   min   max\n",
       "season                                      \n",
       "spring  2604.132597  1399.942119   431  7836\n",
       "summer  4992.331522  1695.977235   795  8362\n",
       "fall    5644.303191  1459.800381  1115  8714\n",
       "winter  4728.162921  1699.615261    22  8555"
      ]
     },
     "execution_count": 564,
     "metadata": {},
     "output_type": "execute_result"
    }
   ],
   "source": [
    "# Rata-rata 'cnt' berdasarkan season dengan menambahkan observed=False\n",
    "day_df.groupby(by=\"season\", observed=False).agg({\n",
    "    \"cnt\": [\"mean\", \"std\", \"min\", \"max\"]\n",
    "})"
   ]
  },
  {
   "cell_type": "markdown",
   "metadata": {
    "id": "_0-36BDLklRg"
   },
   "source": [
    "**Insight:**\n",
    "Mengelompokkan data berdasarkan musim, secara keseluruhan musim gugur (fall) memiliki rata-rata penyewaan sepeda tertinggi, sedangkan musim dingin (winter) memiliki variasi yang tinggi namun dengan rata-rata yang lebih rendah dan jumlah minimum yang sangat kecil."
   ]
  },
  {
   "cell_type": "code",
   "execution_count": 565,
   "metadata": {
    "id": "e9CQCZjk8DC2"
   },
   "outputs": [
    {
     "data": {
      "text/html": [
       "<div>\n",
       "<style scoped>\n",
       "    .dataframe tbody tr th:only-of-type {\n",
       "        vertical-align: middle;\n",
       "    }\n",
       "\n",
       "    .dataframe tbody tr th {\n",
       "        vertical-align: top;\n",
       "    }\n",
       "\n",
       "    .dataframe thead tr th {\n",
       "        text-align: left;\n",
       "    }\n",
       "\n",
       "    .dataframe thead tr:last-of-type th {\n",
       "        text-align: right;\n",
       "    }\n",
       "</style>\n",
       "<table border=\"1\" class=\"dataframe\">\n",
       "  <thead>\n",
       "    <tr>\n",
       "      <th></th>\n",
       "      <th colspan=\"4\" halign=\"left\">cnt</th>\n",
       "    </tr>\n",
       "    <tr>\n",
       "      <th></th>\n",
       "      <th>mean</th>\n",
       "      <th>std</th>\n",
       "      <th>min</th>\n",
       "      <th>max</th>\n",
       "    </tr>\n",
       "    <tr>\n",
       "      <th>yr</th>\n",
       "      <th></th>\n",
       "      <th></th>\n",
       "      <th></th>\n",
       "      <th></th>\n",
       "    </tr>\n",
       "  </thead>\n",
       "  <tbody>\n",
       "    <tr>\n",
       "      <th>2011</th>\n",
       "      <td>3405.761644</td>\n",
       "      <td>1378.753666</td>\n",
       "      <td>431</td>\n",
       "      <td>6043</td>\n",
       "    </tr>\n",
       "    <tr>\n",
       "      <th>2012</th>\n",
       "      <td>5599.934426</td>\n",
       "      <td>1788.667868</td>\n",
       "      <td>22</td>\n",
       "      <td>8714</td>\n",
       "    </tr>\n",
       "  </tbody>\n",
       "</table>\n",
       "</div>"
      ],
      "text/plain": [
       "              cnt                        \n",
       "             mean          std  min   max\n",
       "yr                                       \n",
       "2011  3405.761644  1378.753666  431  6043\n",
       "2012  5599.934426  1788.667868   22  8714"
      ]
     },
     "execution_count": 565,
     "metadata": {},
     "output_type": "execute_result"
    }
   ],
   "source": [
    "# Rata-rata 'cnt' berdasarkan year (yr) dengan observed=False\n",
    "day_df.groupby(by=\"yr\", observed=False).agg({\n",
    "    \"cnt\": [\"mean\", \"std\", \"min\", \"max\"]\n",
    "})"
   ]
  },
  {
   "cell_type": "markdown",
   "metadata": {
    "id": "_0-36BDLklRg"
   },
   "source": [
    "**Insight:**\n",
    "Mengelompokkan data berdasarkan tahun, Secara keseluruhan, tahun 2012 memiliki rata-rata penyewaan sepeda yang lebih tinggi dibandingkan tahun 2011, tetapi juga memiliki variasi yang lebih besar, dengan beberapa titik data yang sangat rendah pada jumlah penyewaan."
   ]
  },
  {
   "cell_type": "code",
   "execution_count": 566,
   "metadata": {
    "id": "e9CQCZjk8DC2"
   },
   "outputs": [
    {
     "data": {
      "text/html": [
       "<div>\n",
       "<style scoped>\n",
       "    .dataframe tbody tr th:only-of-type {\n",
       "        vertical-align: middle;\n",
       "    }\n",
       "\n",
       "    .dataframe tbody tr th {\n",
       "        vertical-align: top;\n",
       "    }\n",
       "\n",
       "    .dataframe thead tr th {\n",
       "        text-align: left;\n",
       "    }\n",
       "\n",
       "    .dataframe thead tr:last-of-type th {\n",
       "        text-align: right;\n",
       "    }\n",
       "</style>\n",
       "<table border=\"1\" class=\"dataframe\">\n",
       "  <thead>\n",
       "    <tr>\n",
       "      <th></th>\n",
       "      <th colspan=\"4\" halign=\"left\">cnt</th>\n",
       "    </tr>\n",
       "    <tr>\n",
       "      <th></th>\n",
       "      <th>mean</th>\n",
       "      <th>std</th>\n",
       "      <th>min</th>\n",
       "      <th>max</th>\n",
       "    </tr>\n",
       "    <tr>\n",
       "      <th>mnth</th>\n",
       "      <th></th>\n",
       "      <th></th>\n",
       "      <th></th>\n",
       "      <th></th>\n",
       "    </tr>\n",
       "  </thead>\n",
       "  <tbody>\n",
       "    <tr>\n",
       "      <th>January</th>\n",
       "      <td>2176.338710</td>\n",
       "      <td>1161.674370</td>\n",
       "      <td>431</td>\n",
       "      <td>4521</td>\n",
       "    </tr>\n",
       "    <tr>\n",
       "      <th>February</th>\n",
       "      <td>2655.298246</td>\n",
       "      <td>1145.313307</td>\n",
       "      <td>1005</td>\n",
       "      <td>5062</td>\n",
       "    </tr>\n",
       "    <tr>\n",
       "      <th>March</th>\n",
       "      <td>3692.258065</td>\n",
       "      <td>1899.301812</td>\n",
       "      <td>605</td>\n",
       "      <td>8362</td>\n",
       "    </tr>\n",
       "    <tr>\n",
       "      <th>April</th>\n",
       "      <td>4484.900000</td>\n",
       "      <td>1776.160778</td>\n",
       "      <td>795</td>\n",
       "      <td>7460</td>\n",
       "    </tr>\n",
       "    <tr>\n",
       "      <th>May</th>\n",
       "      <td>5349.774194</td>\n",
       "      <td>1298.711561</td>\n",
       "      <td>2633</td>\n",
       "      <td>8294</td>\n",
       "    </tr>\n",
       "    <tr>\n",
       "      <th>June</th>\n",
       "      <td>5772.366667</td>\n",
       "      <td>1240.400031</td>\n",
       "      <td>3767</td>\n",
       "      <td>8120</td>\n",
       "    </tr>\n",
       "    <tr>\n",
       "      <th>July</th>\n",
       "      <td>5563.677419</td>\n",
       "      <td>1273.751871</td>\n",
       "      <td>3285</td>\n",
       "      <td>8173</td>\n",
       "    </tr>\n",
       "    <tr>\n",
       "      <th>August</th>\n",
       "      <td>5664.419355</td>\n",
       "      <td>1494.516146</td>\n",
       "      <td>1115</td>\n",
       "      <td>7865</td>\n",
       "    </tr>\n",
       "    <tr>\n",
       "      <th>September</th>\n",
       "      <td>5766.516667</td>\n",
       "      <td>1810.130649</td>\n",
       "      <td>1842</td>\n",
       "      <td>8714</td>\n",
       "    </tr>\n",
       "    <tr>\n",
       "      <th>October</th>\n",
       "      <td>5199.225806</td>\n",
       "      <td>1988.392517</td>\n",
       "      <td>22</td>\n",
       "      <td>8156</td>\n",
       "    </tr>\n",
       "    <tr>\n",
       "      <th>November</th>\n",
       "      <td>4247.183333</td>\n",
       "      <td>1285.712709</td>\n",
       "      <td>1495</td>\n",
       "      <td>6852</td>\n",
       "    </tr>\n",
       "    <tr>\n",
       "      <th>December</th>\n",
       "      <td>3403.806452</td>\n",
       "      <td>1549.639353</td>\n",
       "      <td>441</td>\n",
       "      <td>6606</td>\n",
       "    </tr>\n",
       "  </tbody>\n",
       "</table>\n",
       "</div>"
      ],
      "text/plain": [
       "                   cnt                         \n",
       "                  mean          std   min   max\n",
       "mnth                                           \n",
       "January    2176.338710  1161.674370   431  4521\n",
       "February   2655.298246  1145.313307  1005  5062\n",
       "March      3692.258065  1899.301812   605  8362\n",
       "April      4484.900000  1776.160778   795  7460\n",
       "May        5349.774194  1298.711561  2633  8294\n",
       "June       5772.366667  1240.400031  3767  8120\n",
       "July       5563.677419  1273.751871  3285  8173\n",
       "August     5664.419355  1494.516146  1115  7865\n",
       "September  5766.516667  1810.130649  1842  8714\n",
       "October    5199.225806  1988.392517    22  8156\n",
       "November   4247.183333  1285.712709  1495  6852\n",
       "December   3403.806452  1549.639353   441  6606"
      ]
     },
     "execution_count": 566,
     "metadata": {},
     "output_type": "execute_result"
    }
   ],
   "source": [
    "# Rata-rata 'cnt' berdasarkan bulan\n",
    "day_df.groupby(by=\"mnth\", observed=False).agg({\n",
    "    \"cnt\": [\"mean\", \"std\", \"min\", \"max\"]\n",
    "})"
   ]
  },
  {
   "cell_type": "markdown",
   "metadata": {
    "id": "_0-36BDLklRg"
   },
   "source": [
    "**Insight:**\n",
    "Secara umum, bulan Juni hingga September mencatatkan angka rata-rata penyewaan yang tinggi, sedangkan Oktober hingga Desember menunjukkan angka yang lebih rendah. Variasi penyewaan juga lebih tinggi pada beberapa bulan seperti Maret dan Oktober."
   ]
  },
  {
   "cell_type": "code",
   "execution_count": 567,
   "metadata": {
    "id": "e9CQCZjk8DC2"
   },
   "outputs": [
    {
     "data": {
      "text/html": [
       "<div>\n",
       "<style scoped>\n",
       "    .dataframe tbody tr th:only-of-type {\n",
       "        vertical-align: middle;\n",
       "    }\n",
       "\n",
       "    .dataframe tbody tr th {\n",
       "        vertical-align: top;\n",
       "    }\n",
       "\n",
       "    .dataframe thead tr th {\n",
       "        text-align: left;\n",
       "    }\n",
       "\n",
       "    .dataframe thead tr:last-of-type th {\n",
       "        text-align: right;\n",
       "    }\n",
       "</style>\n",
       "<table border=\"1\" class=\"dataframe\">\n",
       "  <thead>\n",
       "    <tr>\n",
       "      <th></th>\n",
       "      <th colspan=\"4\" halign=\"left\">cnt</th>\n",
       "    </tr>\n",
       "    <tr>\n",
       "      <th></th>\n",
       "      <th>mean</th>\n",
       "      <th>std</th>\n",
       "      <th>min</th>\n",
       "      <th>max</th>\n",
       "    </tr>\n",
       "    <tr>\n",
       "      <th>weekday</th>\n",
       "      <th></th>\n",
       "      <th></th>\n",
       "      <th></th>\n",
       "      <th></th>\n",
       "    </tr>\n",
       "  </thead>\n",
       "  <tbody>\n",
       "    <tr>\n",
       "      <th>Sunday</th>\n",
       "      <td>4228.828571</td>\n",
       "      <td>1872.496629</td>\n",
       "      <td>605</td>\n",
       "      <td>8227</td>\n",
       "    </tr>\n",
       "    <tr>\n",
       "      <th>Monday</th>\n",
       "      <td>4338.123810</td>\n",
       "      <td>1793.074013</td>\n",
       "      <td>22</td>\n",
       "      <td>7525</td>\n",
       "    </tr>\n",
       "    <tr>\n",
       "      <th>Tuesday</th>\n",
       "      <td>4510.663462</td>\n",
       "      <td>1826.911642</td>\n",
       "      <td>683</td>\n",
       "      <td>7767</td>\n",
       "    </tr>\n",
       "    <tr>\n",
       "      <th>Wednesday</th>\n",
       "      <td>4548.538462</td>\n",
       "      <td>2038.095884</td>\n",
       "      <td>441</td>\n",
       "      <td>8173</td>\n",
       "    </tr>\n",
       "    <tr>\n",
       "      <th>Thursday</th>\n",
       "      <td>4667.259615</td>\n",
       "      <td>1939.433317</td>\n",
       "      <td>431</td>\n",
       "      <td>7804</td>\n",
       "    </tr>\n",
       "    <tr>\n",
       "      <th>Friday</th>\n",
       "      <td>4690.288462</td>\n",
       "      <td>1874.624870</td>\n",
       "      <td>1167</td>\n",
       "      <td>8362</td>\n",
       "    </tr>\n",
       "    <tr>\n",
       "      <th>Saturday</th>\n",
       "      <td>4550.542857</td>\n",
       "      <td>2196.693009</td>\n",
       "      <td>627</td>\n",
       "      <td>8714</td>\n",
       "    </tr>\n",
       "  </tbody>\n",
       "</table>\n",
       "</div>"
      ],
      "text/plain": [
       "                   cnt                         \n",
       "                  mean          std   min   max\n",
       "weekday                                        \n",
       "Sunday     4228.828571  1872.496629   605  8227\n",
       "Monday     4338.123810  1793.074013    22  7525\n",
       "Tuesday    4510.663462  1826.911642   683  7767\n",
       "Wednesday  4548.538462  2038.095884   441  8173\n",
       "Thursday   4667.259615  1939.433317   431  7804\n",
       "Friday     4690.288462  1874.624870  1167  8362\n",
       "Saturday   4550.542857  2196.693009   627  8714"
      ]
     },
     "execution_count": 567,
     "metadata": {},
     "output_type": "execute_result"
    }
   ],
   "source": [
    "# Rata-rata 'cnt' berdasarkan hari dalam minggu\n",
    "day_df.groupby(by=\"weekday\", observed=False).agg({\n",
    "    \"cnt\": [\"mean\", \"std\", \"min\", \"max\"]\n",
    "})"
   ]
  },
  {
   "cell_type": "markdown",
   "metadata": {
    "id": "_0-36BDLklRg"
   },
   "source": [
    "**Insight:**\n",
    "Secara umum, Jumat dan Kamis menunjukkan angka rata-rata penyewaan yang lebih tinggi, sementara Senin dan Minggu menunjukkan angka yang sedikit lebih rendah. Namun, seluruh hari menunjukkan variasi yang cukup besar pada jumlah penyewaan sepeda, terutama pada Rabu dan Sabtu."
   ]
  },
  {
   "cell_type": "code",
   "execution_count": 568,
   "metadata": {
    "id": "e9CQCZjk8DC2"
   },
   "outputs": [
    {
     "data": {
      "text/html": [
       "<div>\n",
       "<style scoped>\n",
       "    .dataframe tbody tr th:only-of-type {\n",
       "        vertical-align: middle;\n",
       "    }\n",
       "\n",
       "    .dataframe tbody tr th {\n",
       "        vertical-align: top;\n",
       "    }\n",
       "\n",
       "    .dataframe thead tr th {\n",
       "        text-align: left;\n",
       "    }\n",
       "\n",
       "    .dataframe thead tr:last-of-type th {\n",
       "        text-align: right;\n",
       "    }\n",
       "</style>\n",
       "<table border=\"1\" class=\"dataframe\">\n",
       "  <thead>\n",
       "    <tr>\n",
       "      <th></th>\n",
       "      <th colspan=\"4\" halign=\"left\">cnt</th>\n",
       "    </tr>\n",
       "    <tr>\n",
       "      <th></th>\n",
       "      <th>mean</th>\n",
       "      <th>std</th>\n",
       "      <th>min</th>\n",
       "      <th>max</th>\n",
       "    </tr>\n",
       "    <tr>\n",
       "      <th>weathersit</th>\n",
       "      <th></th>\n",
       "      <th></th>\n",
       "      <th></th>\n",
       "      <th></th>\n",
       "    </tr>\n",
       "  </thead>\n",
       "  <tbody>\n",
       "    <tr>\n",
       "      <th>Clear, Few clouds, Partly cloudy</th>\n",
       "      <td>4876.786177</td>\n",
       "      <td>1879.483989</td>\n",
       "      <td>431</td>\n",
       "      <td>8714</td>\n",
       "    </tr>\n",
       "    <tr>\n",
       "      <th>Mist + Cloudy, Mist + Broken clouds, Mist + Few clouds, Mist</th>\n",
       "      <td>4035.862348</td>\n",
       "      <td>1809.109918</td>\n",
       "      <td>605</td>\n",
       "      <td>8362</td>\n",
       "    </tr>\n",
       "    <tr>\n",
       "      <th>Light Snow, Light Rain + Thunderstorm + Scattered clouds, Light Rain + Scattered clouds</th>\n",
       "      <td>1803.285714</td>\n",
       "      <td>1240.284449</td>\n",
       "      <td>22</td>\n",
       "      <td>4639</td>\n",
       "    </tr>\n",
       "  </tbody>\n",
       "</table>\n",
       "</div>"
      ],
      "text/plain": [
       "                                                            cnt               \\\n",
       "                                                           mean          std   \n",
       "weathersit                                                                     \n",
       "Clear, Few clouds, Partly cloudy                    4876.786177  1879.483989   \n",
       "Mist + Cloudy, Mist + Broken clouds, Mist + Few...  4035.862348  1809.109918   \n",
       "Light Snow, Light Rain + Thunderstorm + Scatter...  1803.285714  1240.284449   \n",
       "\n",
       "                                                               \n",
       "                                                    min   max  \n",
       "weathersit                                                     \n",
       "Clear, Few clouds, Partly cloudy                    431  8714  \n",
       "Mist + Cloudy, Mist + Broken clouds, Mist + Few...  605  8362  \n",
       "Light Snow, Light Rain + Thunderstorm + Scatter...   22  4639  "
      ]
     },
     "execution_count": 568,
     "metadata": {},
     "output_type": "execute_result"
    }
   ],
   "source": [
    "# Rata-rata 'cnt' berdasarkan kondisi cuaca\n",
    "day_df.groupby(by=\"weathersit\", observed=False).agg({\n",
    "    \"cnt\": [\"mean\", \"std\", \"min\", \"max\"]\n",
    "})"
   ]
  },
  {
   "cell_type": "markdown",
   "metadata": {
    "id": "_0-36BDLklRg"
   },
   "source": [
    "**Insight:**\n",
    "Penyewaan sepeda cenderung lebih tinggi pada kondisi cuaca cerah atau sedikit berawan, dan lebih rendah saat cuaca berkabut atau hujan ringan dengan salju."
   ]
  },
  {
   "cell_type": "code",
   "execution_count": 569,
   "metadata": {
    "id": "e9CQCZjk8DC2"
   },
   "outputs": [
    {
     "data": {
      "text/html": [
       "<div>\n",
       "<style scoped>\n",
       "    .dataframe tbody tr th:only-of-type {\n",
       "        vertical-align: middle;\n",
       "    }\n",
       "\n",
       "    .dataframe tbody tr th {\n",
       "        vertical-align: top;\n",
       "    }\n",
       "\n",
       "    .dataframe thead tr th {\n",
       "        text-align: left;\n",
       "    }\n",
       "\n",
       "    .dataframe thead tr:last-of-type th {\n",
       "        text-align: right;\n",
       "    }\n",
       "</style>\n",
       "<table border=\"1\" class=\"dataframe\">\n",
       "  <thead>\n",
       "    <tr>\n",
       "      <th></th>\n",
       "      <th colspan=\"4\" halign=\"left\">cnt</th>\n",
       "    </tr>\n",
       "    <tr>\n",
       "      <th></th>\n",
       "      <th>mean</th>\n",
       "      <th>std</th>\n",
       "      <th>min</th>\n",
       "      <th>max</th>\n",
       "    </tr>\n",
       "    <tr>\n",
       "      <th>weathersit</th>\n",
       "      <th></th>\n",
       "      <th></th>\n",
       "      <th></th>\n",
       "      <th></th>\n",
       "    </tr>\n",
       "  </thead>\n",
       "  <tbody>\n",
       "    <tr>\n",
       "      <th>Clear, Few clouds, Partly cloudy</th>\n",
       "      <td>4876.786177</td>\n",
       "      <td>1879.483989</td>\n",
       "      <td>431</td>\n",
       "      <td>8714</td>\n",
       "    </tr>\n",
       "    <tr>\n",
       "      <th>Mist + Cloudy, Mist + Broken clouds, Mist + Few clouds, Mist</th>\n",
       "      <td>4035.862348</td>\n",
       "      <td>1809.109918</td>\n",
       "      <td>605</td>\n",
       "      <td>8362</td>\n",
       "    </tr>\n",
       "    <tr>\n",
       "      <th>Light Snow, Light Rain + Thunderstorm + Scattered clouds, Light Rain + Scattered clouds</th>\n",
       "      <td>1803.285714</td>\n",
       "      <td>1240.284449</td>\n",
       "      <td>22</td>\n",
       "      <td>4639</td>\n",
       "    </tr>\n",
       "  </tbody>\n",
       "</table>\n",
       "</div>"
      ],
      "text/plain": [
       "                                                            cnt               \\\n",
       "                                                           mean          std   \n",
       "weathersit                                                                     \n",
       "Clear, Few clouds, Partly cloudy                    4876.786177  1879.483989   \n",
       "Mist + Cloudy, Mist + Broken clouds, Mist + Few...  4035.862348  1809.109918   \n",
       "Light Snow, Light Rain + Thunderstorm + Scatter...  1803.285714  1240.284449   \n",
       "\n",
       "                                                               \n",
       "                                                    min   max  \n",
       "weathersit                                                     \n",
       "Clear, Few clouds, Partly cloudy                    431  8714  \n",
       "Mist + Cloudy, Mist + Broken clouds, Mist + Few...  605  8362  \n",
       "Light Snow, Light Rain + Thunderstorm + Scatter...   22  4639  "
      ]
     },
     "execution_count": 569,
     "metadata": {},
     "output_type": "execute_result"
    }
   ],
   "source": [
    "# Rata-rata 'cnt' berdasarkan kondisi cuaca\n",
    "day_df.groupby(by=\"weathersit\", observed=False).agg({\n",
    "    \"cnt\": [\"mean\", \"std\", \"min\", \"max\"]\n",
    "})"
   ]
  },
  {
   "cell_type": "markdown",
   "metadata": {
    "id": "_0-36BDLklRg"
   },
   "source": [
    "**Insight:**\n",
    "Jumlah penyewaan sepeda cenderung lebih tinggi pada kondisi cuaca cerah atau sedikit berawan, dengan variasi yang besar. Penyewaan lebih rendah pada kondisi cuaca berkabut atau saat hujan ringan dan salju."
   ]
  },
  {
   "cell_type": "code",
   "execution_count": 570,
   "metadata": {
    "id": "e9CQCZjk8DC2"
   },
   "outputs": [
    {
     "data": {
      "text/html": [
       "<div>\n",
       "<style scoped>\n",
       "    .dataframe tbody tr th:only-of-type {\n",
       "        vertical-align: middle;\n",
       "    }\n",
       "\n",
       "    .dataframe tbody tr th {\n",
       "        vertical-align: top;\n",
       "    }\n",
       "\n",
       "    .dataframe thead tr th {\n",
       "        text-align: left;\n",
       "    }\n",
       "\n",
       "    .dataframe thead tr:last-of-type th {\n",
       "        text-align: right;\n",
       "    }\n",
       "</style>\n",
       "<table border=\"1\" class=\"dataframe\">\n",
       "  <thead>\n",
       "    <tr>\n",
       "      <th></th>\n",
       "      <th colspan=\"4\" halign=\"left\">cnt</th>\n",
       "    </tr>\n",
       "    <tr>\n",
       "      <th></th>\n",
       "      <th>mean</th>\n",
       "      <th>std</th>\n",
       "      <th>min</th>\n",
       "      <th>max</th>\n",
       "    </tr>\n",
       "    <tr>\n",
       "      <th>holiday</th>\n",
       "      <th></th>\n",
       "      <th></th>\n",
       "      <th></th>\n",
       "      <th></th>\n",
       "    </tr>\n",
       "  </thead>\n",
       "  <tbody>\n",
       "    <tr>\n",
       "      <th>0</th>\n",
       "      <td>4527.104225</td>\n",
       "      <td>1929.013947</td>\n",
       "      <td>22</td>\n",
       "      <td>8714</td>\n",
       "    </tr>\n",
       "    <tr>\n",
       "      <th>1</th>\n",
       "      <td>3735.000000</td>\n",
       "      <td>2103.350660</td>\n",
       "      <td>1000</td>\n",
       "      <td>7403</td>\n",
       "    </tr>\n",
       "  </tbody>\n",
       "</table>\n",
       "</div>"
      ],
      "text/plain": [
       "                 cnt                         \n",
       "                mean          std   min   max\n",
       "holiday                                      \n",
       "0        4527.104225  1929.013947    22  8714\n",
       "1        3735.000000  2103.350660  1000  7403"
      ]
     },
     "execution_count": 570,
     "metadata": {},
     "output_type": "execute_result"
    }
   ],
   "source": [
    "# Rata-rata 'cnt' berdasarkan apakah hari itu libur atau bukan\n",
    "day_df.groupby(by=\"holiday\", observed=False).agg({\n",
    "    \"cnt\": [\"mean\", \"std\", \"min\", \"max\"]\n",
    "})"
   ]
  },
  {
   "cell_type": "markdown",
   "metadata": {
    "id": "_0-36BDLklRg"
   },
   "source": [
    "**Insight:**\n",
    "Jumlah penyewaan sepeda cenderung lebih tinggi pada hari-hari biasa (bukan libur), meskipun variasinya cukup besar. Sebaliknya, pada hari libur, jumlah penyewaan sepeda lebih rendah, namun variasinya lebih besar."
   ]
  },
  {
   "cell_type": "code",
   "execution_count": 571,
   "metadata": {
    "id": "e9CQCZjk8DC2"
   },
   "outputs": [
    {
     "data": {
      "text/html": [
       "<div>\n",
       "<style scoped>\n",
       "    .dataframe tbody tr th:only-of-type {\n",
       "        vertical-align: middle;\n",
       "    }\n",
       "\n",
       "    .dataframe tbody tr th {\n",
       "        vertical-align: top;\n",
       "    }\n",
       "\n",
       "    .dataframe thead tr th {\n",
       "        text-align: left;\n",
       "    }\n",
       "\n",
       "    .dataframe thead tr:last-of-type th {\n",
       "        text-align: right;\n",
       "    }\n",
       "</style>\n",
       "<table border=\"1\" class=\"dataframe\">\n",
       "  <thead>\n",
       "    <tr>\n",
       "      <th></th>\n",
       "      <th colspan=\"4\" halign=\"left\">cnt</th>\n",
       "    </tr>\n",
       "    <tr>\n",
       "      <th></th>\n",
       "      <th>mean</th>\n",
       "      <th>std</th>\n",
       "      <th>min</th>\n",
       "      <th>max</th>\n",
       "    </tr>\n",
       "    <tr>\n",
       "      <th>workingday</th>\n",
       "      <th></th>\n",
       "      <th></th>\n",
       "      <th></th>\n",
       "      <th></th>\n",
       "    </tr>\n",
       "  </thead>\n",
       "  <tbody>\n",
       "    <tr>\n",
       "      <th>0</th>\n",
       "      <td>4330.168831</td>\n",
       "      <td>2052.141245</td>\n",
       "      <td>605</td>\n",
       "      <td>8714</td>\n",
       "    </tr>\n",
       "    <tr>\n",
       "      <th>1</th>\n",
       "      <td>4584.820000</td>\n",
       "      <td>1878.415583</td>\n",
       "      <td>22</td>\n",
       "      <td>8362</td>\n",
       "    </tr>\n",
       "  </tbody>\n",
       "</table>\n",
       "</div>"
      ],
      "text/plain": [
       "                    cnt                        \n",
       "                   mean          std  min   max\n",
       "workingday                                     \n",
       "0           4330.168831  2052.141245  605  8714\n",
       "1           4584.820000  1878.415583   22  8362"
      ]
     },
     "execution_count": 571,
     "metadata": {},
     "output_type": "execute_result"
    }
   ],
   "source": [
    "# Rata-rata 'cnt' berdasarkan apakah hari itu hari kerja atau bukan\n",
    "day_df.groupby(by=\"workingday\", observed=False).agg({\n",
    "    \"cnt\": [\"mean\", \"std\", \"min\", \"max\"]\n",
    "})"
   ]
  },
  {
   "cell_type": "markdown",
   "metadata": {
    "id": "_0-36BDLklRg"
   },
   "source": [
    "**Insight:**\n",
    "Jumlah penyewaan sepeda cenderung lebih tinggi pada hari kerja dibandingkan dengan hari non-kerja, dengan variasi yang lebih kecil. Pada hari non-kerja (seperti akhir pekan atau libur), meskipun jumlah penyewaan lebih rendah, variasinya cukup besar."
   ]
  },
  {
   "cell_type": "code",
   "execution_count": 572,
   "metadata": {
    "id": "e9CQCZjk8DC2"
   },
   "outputs": [
    {
     "data": {
      "text/html": [
       "<div>\n",
       "<style scoped>\n",
       "    .dataframe tbody tr th:only-of-type {\n",
       "        vertical-align: middle;\n",
       "    }\n",
       "\n",
       "    .dataframe tbody tr th {\n",
       "        vertical-align: top;\n",
       "    }\n",
       "\n",
       "    .dataframe thead tr th {\n",
       "        text-align: left;\n",
       "    }\n",
       "\n",
       "    .dataframe thead tr:last-of-type th {\n",
       "        text-align: right;\n",
       "    }\n",
       "</style>\n",
       "<table border=\"1\" class=\"dataframe\">\n",
       "  <thead>\n",
       "    <tr>\n",
       "      <th></th>\n",
       "      <th colspan=\"4\" halign=\"left\">temp</th>\n",
       "      <th colspan=\"4\" halign=\"left\">atemp</th>\n",
       "      <th colspan=\"4\" halign=\"left\">hum</th>\n",
       "    </tr>\n",
       "    <tr>\n",
       "      <th></th>\n",
       "      <th>mean</th>\n",
       "      <th>std</th>\n",
       "      <th>min</th>\n",
       "      <th>max</th>\n",
       "      <th>mean</th>\n",
       "      <th>std</th>\n",
       "      <th>min</th>\n",
       "      <th>max</th>\n",
       "      <th>mean</th>\n",
       "      <th>std</th>\n",
       "      <th>min</th>\n",
       "      <th>max</th>\n",
       "    </tr>\n",
       "    <tr>\n",
       "      <th>season</th>\n",
       "      <th></th>\n",
       "      <th></th>\n",
       "      <th></th>\n",
       "      <th></th>\n",
       "      <th></th>\n",
       "      <th></th>\n",
       "      <th></th>\n",
       "      <th></th>\n",
       "      <th></th>\n",
       "      <th></th>\n",
       "      <th></th>\n",
       "      <th></th>\n",
       "    </tr>\n",
       "  </thead>\n",
       "  <tbody>\n",
       "    <tr>\n",
       "      <th>spring</th>\n",
       "      <td>0.297748</td>\n",
       "      <td>0.102735</td>\n",
       "      <td>0.059130</td>\n",
       "      <td>0.572500</td>\n",
       "      <td>0.296914</td>\n",
       "      <td>0.099026</td>\n",
       "      <td>0.079070</td>\n",
       "      <td>0.548617</td>\n",
       "      <td>0.582903</td>\n",
       "      <td>0.151880</td>\n",
       "      <td>0.000000</td>\n",
       "      <td>0.948261</td>\n",
       "    </tr>\n",
       "    <tr>\n",
       "      <th>summer</th>\n",
       "      <td>0.544405</td>\n",
       "      <td>0.122650</td>\n",
       "      <td>0.253043</td>\n",
       "      <td>0.808333</td>\n",
       "      <td>0.520307</td>\n",
       "      <td>0.108022</td>\n",
       "      <td>0.250339</td>\n",
       "      <td>0.757579</td>\n",
       "      <td>0.626948</td>\n",
       "      <td>0.152841</td>\n",
       "      <td>0.254167</td>\n",
       "      <td>0.922500</td>\n",
       "    </tr>\n",
       "    <tr>\n",
       "      <th>fall</th>\n",
       "      <td>0.706309</td>\n",
       "      <td>0.070848</td>\n",
       "      <td>0.469167</td>\n",
       "      <td>0.861667</td>\n",
       "      <td>0.655898</td>\n",
       "      <td>0.072056</td>\n",
       "      <td>0.242400</td>\n",
       "      <td>0.840896</td>\n",
       "      <td>0.633482</td>\n",
       "      <td>0.119349</td>\n",
       "      <td>0.360000</td>\n",
       "      <td>0.939565</td>\n",
       "    </tr>\n",
       "    <tr>\n",
       "      <th>winter</th>\n",
       "      <td>0.422906</td>\n",
       "      <td>0.107834</td>\n",
       "      <td>0.220833</td>\n",
       "      <td>0.657500</td>\n",
       "      <td>0.415539</td>\n",
       "      <td>0.095536</td>\n",
       "      <td>0.227913</td>\n",
       "      <td>0.607975</td>\n",
       "      <td>0.668719</td>\n",
       "      <td>0.131248</td>\n",
       "      <td>0.333478</td>\n",
       "      <td>0.972500</td>\n",
       "    </tr>\n",
       "  </tbody>\n",
       "</table>\n",
       "</div>"
      ],
      "text/plain": [
       "            temp                                   atemp                      \\\n",
       "            mean       std       min       max      mean       std       min   \n",
       "season                                                                         \n",
       "spring  0.297748  0.102735  0.059130  0.572500  0.296914  0.099026  0.079070   \n",
       "summer  0.544405  0.122650  0.253043  0.808333  0.520307  0.108022  0.250339   \n",
       "fall    0.706309  0.070848  0.469167  0.861667  0.655898  0.072056  0.242400   \n",
       "winter  0.422906  0.107834  0.220833  0.657500  0.415539  0.095536  0.227913   \n",
       "\n",
       "                       hum                                \n",
       "             max      mean       std       min       max  \n",
       "season                                                    \n",
       "spring  0.548617  0.582903  0.151880  0.000000  0.948261  \n",
       "summer  0.757579  0.626948  0.152841  0.254167  0.922500  \n",
       "fall    0.840896  0.633482  0.119349  0.360000  0.939565  \n",
       "winter  0.607975  0.668719  0.131248  0.333478  0.972500  "
      ]
     },
     "execution_count": 572,
     "metadata": {},
     "output_type": "execute_result"
    }
   ],
   "source": [
    "# Rata-rata temperatur, kelembapan, dan angin berdasarkan musim\n",
    "day_df.groupby(by=\"season\", observed=False).agg({\n",
    "    \"temp\": [\"mean\", \"std\", \"min\", \"max\"],\n",
    "    \"atemp\": [\"mean\", \"std\", \"min\", \"max\"],\n",
    "    \"hum\": [\"mean\", \"std\", \"min\", \"max\"]\n",
    "})"
   ]
  },
  {
   "cell_type": "markdown",
   "metadata": {
    "id": "_0-36BDLklRg"
   },
   "source": [
    "**Insight:**\n",
    "- Temperatur tertinggi terjadi pada musim gugur dan panas, sementara kelembapan tertinggi ada di musim dingin dan panas.\n",
    "- Variasi suhu dan kelembapan relatif kecil pada musim semi dan gugur, sedangkan variasinya lebih besar pada musim panas dan dingin.\n",
    "- Musim semi dan gugur cenderung memiliki suhu yang lebih sejuk dan kelembapan yang lebih stabil dibandingkan musim panas dan dingin."
   ]
  },
  {
   "cell_type": "code",
   "execution_count": 573,
   "metadata": {
    "id": "e9CQCZjk8DC2"
   },
   "outputs": [
    {
     "data": {
      "image/png": "[encoded data removed]",
      "text/plain": [
       "<Figure size 1000x600 with 1 Axes>"
      ]
     },
     "metadata": {},
     "output_type": "display_data"
    }
   ],
   "source": [
    "# Histogram untuk Total Penyewaan Sepeda\n",
    "plt.figure(figsize=(10,6))\n",
    "plt.hist(day_df['cnt'], bins=30, edgecolor='black')\n",
    "plt.title('Distribusi Total Penyewaan Sepeda')\n",
    "plt.xlabel('Jumlah Penyewaan Sepeda')\n",
    "plt.ylabel('Frekuensi')\n",
    "plt.show()"
   ]
  },
  {
   "cell_type": "markdown",
   "metadata": {
    "id": "_0-36BDLklRg"
   },
   "source": [
    "**Insight:**\n",
    "Jumlah penyewaan sepeda (cnt) menunjukkan pola distribusi yang tidak merata, dengan mayoritas penyewaan terjadi di kisaran 3000–5000 sepeda per hari/periode. Selain itu, adanya dua puncak utama dalam distribusi bisa mengindikasikan perbedaan pola penyewaan berdasarkan faktor seperti hari kerja vs. akhir pekan atau kondisi cuaca tertentu."
   ]
  },
  {
   "cell_type": "code",
   "execution_count": 574,
   "metadata": {
    "id": "e9CQCZjk8DC2"
   },
   "outputs": [
    {
     "data": {
      "image/png": "[encoded data removed]",
      "text/plain": [
       "<Figure size 1000x600 with 1 Axes>"
      ]
     },
     "metadata": {},
     "output_type": "display_data"
    }
   ],
   "source": [
    "# Boxplot untuk Total Penyewaan Sepeda berdasarkan Musim\n",
    "plt.figure(figsize=(10,6))\n",
    "sns.boxplot(x='season', y='cnt', data=day_df)\n",
    "plt.title('Distribusi Total Penyewaan Sepeda berdasarkan Musim')\n",
    "plt.xlabel('Musim')\n",
    "plt.ylabel('Jumlah Penyewaan Sepeda')\n",
    "plt.show()"
   ]
  },
  {
   "cell_type": "markdown",
   "metadata": {
    "id": "_0-36BDLklRg"
   },
   "source": [
    "**Insight:**\n",
    "Secara umum, penyewaan sepeda lebih banyak terjadi di musim panas dan gugur, sedangkan musim semi dan dingin memiliki jumlah penyewaan yang lebih rendah."
   ]
  },
  {
   "cell_type": "code",
   "execution_count": 575,
   "metadata": {
    "id": "e9CQCZjk8DC2"
   },
   "outputs": [
    {
     "data": {
      "image/png": "[encoded data removed]",
      "text/plain": [
       "<Figure size 1200x800 with 2 Axes>"
      ]
     },
     "metadata": {},
     "output_type": "display_data"
    }
   ],
   "source": [
    "# Saring kolom numerik\n",
    "numerical_df = day_df.select_dtypes(include=['number'])\n",
    "\n",
    "# Matrix korelasi untuk fitur numerik\n",
    "corr = numerical_df.corr()\n",
    "\n",
    "plt.figure(figsize=(12, 8))\n",
    "sns.heatmap(corr, annot=True, cmap='coolwarm', fmt='.2f', linewidths=0.5)\n",
    "plt.title('Matrix Korelasi')\n",
    "plt.show()"
   ]
  },
  {
   "cell_type": "markdown",
   "metadata": {
    "id": "_0-36BDLklRg"
   },
   "source": [
    "**Insight:**\n",
    "- Faktor cuaca seperti suhu berpengaruh signifikan terhadap jumlah penyewaan sepeda.\n",
    "- Pengguna terdaftar lebih dominan dalam penyewaan sepeda dibandingkan pengguna kasual.\n",
    "- Kondisi cuaca yang buruk (kelembaban tinggi atau angin kencang) dapat sedikit mengurangi jumlah penyewaan."
   ]
  },
  {
   "cell_type": "code",
   "execution_count": 576,
   "metadata": {
    "id": "e9CQCZjk8DC2"
   },
   "outputs": [
    {
     "data": {
      "image/png": "[encoded data removed]",
      "text/plain": [
       "<Figure size 1000x600 with 1 Axes>"
      ]
     },
     "metadata": {},
     "output_type": "display_data"
    },
    {
     "data": {
      "image/png": "[encoded data removed]",
      "text/plain": [
       "<Figure size 1000x600 with 1 Axes>"
      ]
     },
     "metadata": {},
     "output_type": "display_data"
    }
   ],
   "source": [
    "# Barplot untuk `cnt` berdasarkan holiday\n",
    "plt.figure(figsize=(10,6))\n",
    "sns.barplot(x='holiday', y='cnt', data=day_df)\n",
    "plt.title('Rata-rata `cnt` berdasarkan Holiday')\n",
    "plt.xlabel('Holiday (0: No, 1: Yes)')\n",
    "plt.ylabel('Jumlah Pengunjung (cnt)')\n",
    "plt.show()\n",
    "\n",
    "# Barplot untuk `cnt` berdasarkan workingday\n",
    "plt.figure(figsize=(10,6))\n",
    "sns.barplot(x='workingday', y='cnt', data=day_df)\n",
    "plt.title('Rata-rata `cnt` berdasarkan Working Day')\n",
    "plt.xlabel('Working Day (0: No, 1: Yes)')\n",
    "plt.ylabel('Jumlah Pengunjung (cnt)')\n",
    "plt.show()"
   ]
  },
  {
   "cell_type": "markdown",
   "metadata": {
    "id": "zsyZjqak8DC2"
   },
   "source": [
    "## Visualization & Explanatory Analysis"
   ]
  },
  {
   "cell_type": "markdown",
   "metadata": {
    "id": "HZxOiQ6n8DC2"
   },
   "source": [
    "### Pertanyaan 1:"
   ]
  },
  {
   "cell_type": "code",
   "execution_count": null,
   "metadata": {
    "id": "Go0lCsvO8DC2"
   },
   "outputs": [],
   "source": [
    "Bagaimana pengaruh musim terhadap jumlah sewa sepeda (cnt)?"
   ]
  },
  {
   "cell_type": "code",
   "execution_count": 579,
   "metadata": {
    "id": "e9CQCZjk8DC2"
   },
   "outputs": [
    {
     "data": {
      "image/png": "[encoded data removed]",
      "text/plain": [
       "<Figure size 1000x600 with 1 Axes>"
      ]
     },
     "metadata": {},
     "output_type": "display_data"
    }
   ],
   "source": [
    "# Rata-rata sewa sepeda berdasarkan musim\n",
    "season_avg = day_df.groupby(by=\"season\", observed=False)[\"cnt\"].mean()\n",
    "season_avg.plot(kind='bar', figsize=(10, 6), color='skyblue')\n",
    "plt.title('Rata-rata Jumlah Sepeda Sewa (cnt) Berdasarkan Musim')\n",
    "plt.xlabel('Season')\n",
    "plt.ylabel('Rata-rata Jumlah Sepeda Sewa (cnt)')\n",
    "plt.xticks(rotation=0)\n",
    "plt.show()"
   ]
  },
  {
   "cell_type": "markdown",
   "metadata": {
    "id": "_0-36BDLklRg"
   },
   "source": [
    "**Insight:**\n",
    "Terlihat bahwa jumlah sewa sepeda berbeda di setiap musim. Musim gugur (fall) memiliki jumlah penyewaan tertinggi, diikuti oleh musim panas (summer) dan musim dingin (winter), sementara musim semi (spring) memiliki jumlah penyewaan terendah. Ini menunjukkan bahwa musim memiliki pengaruh signifikan terhadap jumlah sewa sepeda, di mana musim yang lebih hangat cenderung meningkatkan jumlah penyewaan."
   ]
  },
  {
   "cell_type": "markdown",
   "metadata": {
    "id": "DgHI7CiU8DC2"
   },
   "source": [
    "### Pertanyaan 2:"
   ]
  },
  {
   "cell_type": "code",
   "execution_count": null,
   "metadata": {
    "id": "Go0lCsvO8DC2"
   },
   "outputs": [],
   "source": [
    "Apakah hari libur atau hari kerja memengaruhi jumlah sewa sepeda?"
   ]
  },
  {
   "cell_type": "code",
   "execution_count": 580,
   "metadata": {
    "id": "e9CQCZjk8DC2"
   },
   "outputs": [
    {
     "data": {
      "image/png": "[encoded data removed]",
      "text/plain": [
       "<Figure size 1000x600 with 1 Axes>"
      ]
     },
     "metadata": {},
     "output_type": "display_data"
    },
    {
     "data": {
      "image/png": "[encoded data removed]",
      "text/plain": [
       "<Figure size 1000x600 with 1 Axes>"
      ]
     },
     "metadata": {},
     "output_type": "display_data"
    }
   ],
   "source": [
    "# Barplot untuk rata-rata jumlah sewa sepeda berdasarkan holiday\n",
    "plt.figure(figsize=(10, 6))\n",
    "sns.barplot(x='holiday', y='cnt', data=day_df)\n",
    "plt.title('Rata-rata Jumlah Sepeda Sewa (cnt) Berdasarkan Hari Libur')\n",
    "plt.xlabel('Holiday (0: Tidak, 1: Ya)')\n",
    "plt.ylabel('Rata-rata Jumlah Sepeda Sewa (cnt)')\n",
    "plt.show()\n",
    "\n",
    "# Barplot untuk rata-rata jumlah sewa sepeda berdasarkan hari kerja\n",
    "plt.figure(figsize=(10, 6))\n",
    "sns.barplot(x='workingday', y='cnt', data=day_df)\n",
    "plt.title('Rata-rata Jumlah Sepeda Sewa (cnt) Berdasarkan Hari Kerja')\n",
    "plt.xlabel('Hari Kerja (0: Tidak, 1: Ya)')\n",
    "plt.ylabel('Rata-rata Jumlah Sepeda Sewa (cnt)')\n",
    "plt.show()"
   ]
  },
  {
   "cell_type": "markdown",
   "metadata": {
    "id": "_0-36BDLklRg"
   },
   "source": [
    "**Insight:**\n",
    "- Hari kerja vs. bukan hari kerja: Tidak ada perbedaan signifikan dalam jumlah sewa sepeda antara hari kerja (1) dan bukan hari kerja (0). Artinya, jumlah sewa sepeda relatif stabil terlepas dari apakah itu hari kerja atau bukan.\n",
    "  \n",
    "- Hari libur vs. bukan hari libur: Terlihat bahwa jumlah sewa sepeda lebih rendah pada hari libur dibandingkan dengan hari biasa (bukan hari libur). Ini menunjukkan bahwa pada hari libur, lebih sedikit orang yang menggunakan layanan sewa sepeda, kemungkinan karena perubahan kebiasaan perjalanan (misalnya, lebih sedikit komuter yang berangkat kerja)."
   ]
  },
  {
   "cell_type": "markdown",
   "metadata": {
    "id": "9y4VUsmcYNZ5"
   },
   "source": [
    "## Analisis Lanjutan (Opsional)"
   ]
  },
  {
   "cell_type": "code",
   "execution_count": null,
   "metadata": {
    "id": "iWhnzsJGYUCO"
   },
   "outputs": [],
   "source": [
    "Bagaimana pengaruh cuaca terhadap jumlah sewa sepeda?"
   ]
  },
  {
   "cell_type": "code",
   "execution_count": 581,
   "metadata": {
    "id": "e9CQCZjk8DC2"
   },
   "outputs": [
    {
     "data": {
      "image/png": "[encoded data removed]",
      "text/plain": [
       "<Figure size 1000x600 with 1 Axes>"
      ]
     },
     "metadata": {},
     "output_type": "display_data"
    }
   ],
   "source": [
    "# Rata-rata sewa sepeda berdasarkan kondisi cuaca (menggunakan bar plot horizontal)\n",
    "weather_avg = day_df.groupby(by=\"weathersit\", observed=False)[\"cnt\"].mean()\n",
    "weather_avg.plot(kind='barh', figsize=(10, 6), color='lightgreen')\n",
    "plt.title('Rata-rata Jumlah Sepeda Sewa (cnt) Berdasarkan Cuaca')\n",
    "plt.xlabel('Rata-rata Jumlah Sepeda Sewa (cnt)')\n",
    "plt.ylabel('Weathersit')\n",
    "plt.show()"
   ]
  },
  {
   "cell_type": "markdown",
   "metadata": {
    "id": "ZTcyR48Y8DC2"
   },
   "source": [
    "- Conclution Secara keseluruhan, semakin baik kondisi cuaca, semakin tinggi jumlah sewa sepeda. Sebaliknya, kondisi cuaca yang kurang mendukung seperti hujan atau salju menyebabkan penurunan jumlah penyewa sepeda."
   ]
  },
  {
   "cell_type": "markdown",
   "metadata": {
    "id": "_WeHlCeX8DC2"
   },
   "source": [
    "## Conclusion"
   ]
  },
  {
   "cell_type": "markdown",
   "metadata": {
    "id": "ZTcyR48Y8DC2"
   },
   "source": [
    "- Conclution pertanyaan 1\n",
    "\n",
    "Dari hasil visualisasi untuk pertanyaan 1, terlihat bahwa jumlah sewa sepeda berbeda di setiap musim. Musim gugur (fall) memiliki jumlah penyewaan tertinggi, diikuti oleh musim panas (summer) dan musim dingin (winter), sementara musim semi (spring) memiliki jumlah penyewaan terendah. Ini menunjukkan bahwa musim memiliki pengaruh signifikan terhadap jumlah sewa sepeda, di mana musim yang lebih hangat cenderung meningkatkan jumlah penyewaan.\n",
    "  \n",
    "- Conclution pertanyaan 2\n",
    "\n",
    "Hari kerja vs. bukan hari kerja: Tidak ada perbedaan signifikan dalam jumlah sewa sepeda antara hari kerja (1) dan bukan hari kerja (0). Artinya, jumlah sewa sepeda relatif stabil terlepas dari apakah itu hari kerja atau bukan.\n",
    "Hari libur vs. bukan hari libur: Terlihat bahwa jumlah sewa sepeda lebih rendah pada hari libur dibandingkan dengan hari biasa (bukan hari libur). Ini menunjukkan bahwa pada hari libur, lebih sedikit orang yang menggunakan layanan sewa sepeda, kemungkinan karena perubahan kebiasaan perjalanan (misalnya, lebih sedikit komuter yang berangkat kerja)."
   ]
  },
  {
   "cell_type": "code",
   "execution_count": 585,
   "metadata": {
    "id": "e9CQCZjk8DC2"
   },
   "outputs": [],
   "source": [
    "day_df.to_csv(\"day_data.csv\", index=False, encoding='utf-8')"
   ]
  },
  {
   "cell_type": "code",
   "execution_count": null,
   "metadata": {},
   "outputs": [],
   "source": []
  }
 ],
 "metadata": {
  "colab": {
   "provenance": []
  },
  "kernelspec": {
   "display_name": "Python 3 (ipykernel)",
   "language": "python",
   "name": "python3"
  },
  "language_info": {
   "codemirror_mode": {
    "name": "ipython",
    "version": 3
   },
   "file_extension": ".py",
   "mimetype": "text/x-python",
   "name": "python",
   "nbconvert_exporter": "python",
   "pygments_lexer": "ipython3",
   "version": "3.11.7"
  },
  "vscode": {
   "interpreter": {
    "hash": "972b3bf27e332e87b5379f2791f6ef9dfc79c71018c370b0d7423235e20fe4d7"
   }
  }
 },
 "nbformat": 4,
 "nbformat_minor": 4
}
